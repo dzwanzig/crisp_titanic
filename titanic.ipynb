{
 "cells": [
  {
   "cell_type": "markdown",
   "metadata": {
    "slideshow": {
     "slide_type": "slide"
    }
   },
   "source": [
    "# Titanic DataSet Kaggle Challenge"
   ]
  },
  {
   "cell_type": "markdown",
   "metadata": {
    "slideshow": {
     "slide_type": "slide"
    }
   },
   "source": [
    "## Step 1: Geschäftsverständnis\n",
    "\n",
    "(engl. Business Understanding) In der Phase des Geschäftsverständnisses geht es darum, die konkreten Ziele und Anforderungen für das Data Mining festzulegen. Ergebnis dieser Phase ist die Formulierung der Aufgabenstellung und die Beschreibung der geplanten groben Vorgehensweise. [1]"
   ]
  },
  {
   "cell_type": "markdown",
   "metadata": {
    "slideshow": {
     "slide_type": "slide"
    }
   },
   "source": [
    "<img src=\"visuals/titanic_sketch.png\">"
   ]
  },
  {
   "cell_type": "markdown",
   "metadata": {
    "slideshow": {
     "slide_type": "subslide"
    }
   },
   "source": [
    "https://de.wikipedia.org/wiki/RMS_Titanic"
   ]
  },
  {
   "cell_type": "markdown",
   "metadata": {},
   "source": [
    "### Aufgabe:  \"Vorhersage\" ob eine Passagier_In den Untergang der Titanic überlebt hat"
   ]
  },
  {
   "cell_type": "markdown",
   "metadata": {},
   "source": [
    "## Step 2: Datenverständnis \n",
    "\n",
    "(engl. Data Understanding) Im Rahmen des Datenverständnisses wird versucht, sich einen ersten Überblick über die zur Verfügung stehenden Daten und deren Qualität zu verschaffen. Es erfolgt eine Analyse und Bewertung der Datenqualität. Probleme mit der Qualität der vorhandenen Daten in Bezug auf die in der vorherigen Phase festgelegten Aufgabenstellung sind zu benennen. [1]"
   ]
  },
  {
   "cell_type": "markdown",
   "metadata": {},
   "source": [
    "### 2.1 Vorbereitung der Entwicklungsumgebung\n",
    "Import der notwendigen Python Bibliotheken"
   ]
  },
  {
   "cell_type": "code",
   "execution_count": null,
   "metadata": {},
   "outputs": [],
   "source": [
    "import pandas as pd             # Pandas Bibliothek für Datenverarbeitung, siehe https://pandas.pydata.org/\n",
    "import matplotlib.pyplot as plt # Matplotlib für die Datenvisualisierung, siehe https://matplotlib.org/\n",
    "import seaborn as sns           # Seaborn für die Datenvisualisierung, siehe https://seaborn.pydata.org/\n",
    "import numpy as np              # Numpy für effiziente Rechenoperationen, siehe https://numpy.org/\n",
    "import os                       # OS für den Zugriff auf externe Daten, siehe https://docs.python.org/3/library/os.html\n",
    "import random                   # Generieren von Pseudo-Zufallszahlen, siehe https://docs.python.org/3/library/random.html#module-random\n",
    "\n",
    "# Sklearn ML-Algorithmen\n",
    "from sklearn import tree, linear_model, neighbors, naive_bayes, ensemble, naive_bayes\n",
    "\n",
    "# Sklearn Modellierungs-Helfer\n",
    "from sklearn.preprocessing import LabelEncoder\n",
    "from sklearn import feature_selection\n",
    "from sklearn import model_selection\n",
    "from sklearn import metrics\n",
    "from sklearn.tree import export_graphviz"
   ]
  },
  {
   "cell_type": "markdown",
   "metadata": {},
   "source": [
    "Formatierung der Mark-up Tabellen: linksbündige Ausrichtung"
   ]
  },
  {
   "cell_type": "code",
   "execution_count": null,
   "metadata": {},
   "outputs": [],
   "source": [
    "%%html\n",
    "<style>\n",
    "table {float:left}\n",
    "</style>"
   ]
  },
  {
   "cell_type": "code",
   "execution_count": null,
   "metadata": {},
   "outputs": [],
   "source": [
    "%matplotlib inline\n",
    "import warnings\n",
    "warnings.filterwarnings('ignore')\n",
    "sns.set_theme(style=\"ticks\")"
   ]
  },
  {
   "cell_type": "markdown",
   "metadata": {},
   "source": [
    "### 2.2 Datenimport\n",
    "Import und merge der CSV Daten <br>\n",
    "Quelle: https://www.kaggle.com/c/titanic/data"
   ]
  },
  {
   "cell_type": "code",
   "execution_count": null,
   "metadata": {},
   "outputs": [],
   "source": [
    "# Trainingsdaten-Datei einlesen\n",
    "df_train = pd.read_csv(\"data/train.csv\")\n",
    "df_train[\"Survived\"] = df_train[\"Survived\"].astype(int)\n",
    "\n",
    "# Testdaten-Datei einlesen\n",
    "df_test  = pd.read_csv(\"data/test.csv\")\n",
    "\n",
    "# beide Datensätze mergen, Trainingsdatensatz 0:892, Testdatensatz 892:1310\n",
    "df = pd.concat([df_train, df_test], ignore_index = True)\n"
   ]
  },
  {
   "cell_type": "markdown",
   "metadata": {},
   "source": [
    "### 2.3 Datenerkundung\n",
    "Einen Überblick über die vorhandenen Daten verschaffen <br>\n",
    "Quellen: https://www.kaggle.com/ldfreeman3/a-data-science-framework-to-achieve-99-accuracy"
   ]
  },
  {
   "cell_type": "markdown",
   "metadata": {},
   "source": [
    "#### Beschreibung der Daten\n",
    "\n",
    "| Variable | Bedeutung | Beschreibung |\n",
    "| :- | :- | :- |\n",
    "| PassengerId | Passagier_In-Nummer | Zahl zwischen 1 und 1309 |\n",
    "| Survived | Hat die Passagier_In den Untergang überlebt | 0 = Nein, 1 = Ja |\n",
    "| Pclass | Ticket-Klasse | 1 = 1. Klasse, 2 = 2. Klasse, 3 = 3. Klasse\n",
    "| Name | Name der Passagier_In | Nachname, Vorname |\n",
    "| Sex | Geschlecht der Passagier_In | male = Mann, female = Frau |\n",
    "| Age | Alter der Passagier_In |\n",
    "| SibSp | Anzahl der Geschwister/ Ehepartner an Board |\n",
    "| Parch | Anzahl der Kinder/ Eltern an Board |\n",
    "| Ticket | Ticket-Nummer |\n",
    "| Fare | Ticket-Preis |\n",
    "| Cabin | Kabinennummer |\n",
    "| Embarked | Einschiffungshafen | C = Cherbourg, Q = Queenstown, S = Southampton |"
   ]
  },
  {
   "cell_type": "code",
   "execution_count": null,
   "metadata": {},
   "outputs": [],
   "source": [
    "# Tabellarische Darstellung von 10 zufälligen Datensätze erzeugen\n",
    "df.sample(10) "
   ]
  },
  {
   "cell_type": "code",
   "execution_count": null,
   "metadata": {},
   "outputs": [],
   "source": [
    "# Beschreibung des gesamten Datensatzes: Fehlende Werte und Datentype\n",
    "df.info() "
   ]
  },
  {
   "cell_type": "code",
   "execution_count": null,
   "metadata": {},
   "outputs": [],
   "source": [
    "# Statistische Beschreibung der numerischen Features des Datensatzes\n",
    "df.describe(include = np.number) "
   ]
  },
  {
   "cell_type": "code",
   "execution_count": null,
   "metadata": {},
   "outputs": [],
   "source": [
    "# Statistische Beschreibung der nicht numerischen Features des Datensatzes\n",
    "df.describe(include = np.object) "
   ]
  },
  {
   "cell_type": "markdown",
   "metadata": {},
   "source": [
    "### 2.4 Visualisierung\n",
    "\n",
    "Für die Visualisierung der Daten wird die Bibliothek Seaborn genutzt. </p>\n",
    "Infos und Benutzungshinweise unter https://seaborn.pydata.org/index.html"
   ]
  },
  {
   "cell_type": "code",
   "execution_count": null,
   "metadata": {},
   "outputs": [],
   "source": [
    "# Alter der Pasagier_Innen als Histogramm\n",
    "sns.histplot(data = df, x = df[\"Age\"], bins = 16, kde = False)\n",
    "plt.show()"
   ]
  },
  {
   "cell_type": "code",
   "execution_count": null,
   "metadata": {},
   "outputs": [],
   "source": [
    "# Alter der Pasagier_Innen\n",
    "sns.histplot(data = df, x = df[\"Fare\"], bins = 20, kde = False)"
   ]
  },
  {
   "cell_type": "code",
   "execution_count": null,
   "metadata": {},
   "outputs": [],
   "source": [
    "sns.catplot(x = \"Survived\", \n",
    "            col = \"Pclass\", \n",
    "            col_wrap = 3, \n",
    "            data = df_train,\n",
    "            kind=\"count\")"
   ]
  },
  {
   "cell_type": "code",
   "execution_count": null,
   "metadata": {},
   "outputs": [],
   "source": [
    "# Verteilung der Klassen\n",
    "sns.catplot(x = \"Pclass\", \n",
    "            y = \"Survived\", \n",
    "            kind = \"bar\", \n",
    "            data = df_train, \n",
    "            ci=None)"
   ]
  },
  {
   "cell_type": "code",
   "execution_count": null,
   "metadata": {},
   "outputs": [],
   "source": [
    "# Alter der Pasagier_Innen vs Überleben\n",
    "sns.catplot(x = \"Sex\", \n",
    "            y = \"Survived\", \n",
    "            kind = \"bar\", \n",
    "            data = df_train,\n",
    "            ci=None)"
   ]
  },
  {
   "cell_type": "code",
   "execution_count": null,
   "metadata": {},
   "outputs": [],
   "source": [
    "# Alter vs Überleben\n",
    "sns.histplot(x = \"Age\", \n",
    "             hue = \"Survived\", \n",
    "             data = df_train)"
   ]
  },
  {
   "cell_type": "code",
   "execution_count": null,
   "metadata": {},
   "outputs": [],
   "source": [
    "# Geschlecht vs Überleben\n",
    "sns.histplot(x = \"Sex\", \n",
    "             hue = \"Survived\", \n",
    "             data = df_train)"
   ]
  },
  {
   "cell_type": "code",
   "execution_count": null,
   "metadata": {},
   "outputs": [],
   "source": [
    "# Klasse vs Überleben\n",
    "sns.displot(x = \"Pclass\", hue = \"Survived\", data = df_train, discrete = True)"
   ]
  },
  {
   "cell_type": "markdown",
   "metadata": {},
   "source": [
    "### 2.5 Erkenntnisse"
   ]
  },
  {
   "cell_type": "markdown",
   "metadata": {},
   "source": [
    "#### Beschreibung der Daten\n",
    "\n",
    "| Variable | Bedeutung | Beschreibung |Formatierung fehlerhaft | Formatierung soll | Fehlende Werte |\n",
    "| :--- | :--- | :--- | :--- | :--- | :--- |\n",
    "| PassengerId | Passagier_In-Nummer | Zahl zwischen 1 und 1309 | ja | Integer | nein |\n",
    "| Survived | Hat die Passagier_In den Untergang überlebt | 0 = Nein, 1 = Ja | nein | | nein |\n",
    "| Pclass | Ticket-Klasse | 1 = 1. Klasse, 2 = 2. Klasse, 3 = 3. Klasse ja | Integer | | ja |\n",
    "| Name | Name der Passagier_In | Nachname, Vorname | nein | | nein | \n",
    "| Sex | Geschlecht der Passagier_In | male = Mann, female = Frau | nein | | ja |\n",
    "| Age | Alter der Passagier_In | | ja | Integer | ja |\n",
    "| SibSp | Anzahl der Geschwister/ Ehepartner an Board | | nein | | nein |\n",
    "| Parch | Anzahl der Kinder/ Eltern an Board | | nein | | nein |\n",
    "| Ticket | Ticket-Nummer | |  nein | | nein |\n",
    "| Fare | Ticket-Preis | |  nein | | ja |\n",
    "| Cabin | Kabinennummer | |  nein | | ja |\n",
    "| Embarked | Einschiffungshafen | C = Cherbourg, Q = Queenstown, S = Southampton |  nein | | ja |"
   ]
  },
  {
   "cell_type": "markdown",
   "metadata": {},
   "source": [
    "## Step 3: Datenvorbereitung\n",
    "(engl. Data Preparation) Die Datenvorbereitung dient dazu, einen finalen Datensatz zu erstellen, der die Basis für die nächste Phase der Modellierung bildet. [1]"
   ]
  },
  {
   "cell_type": "markdown",
   "metadata": {},
   "source": [
    "### 3.1 Auffüllen der fehlenden Werte "
   ]
  },
  {
   "cell_type": "code",
   "execution_count": null,
   "metadata": {},
   "outputs": [],
   "source": [
    "df[\"Age\"]      = df['Age'].fillna(df['Age'].median())            # Alter mit dem Median auffüllen\n",
    "df['Embarked'] = df['Embarked'].fillna(df['Embarked'].mode()[0]) # Einschiffhafen mit dem Modus auffüllen\n",
    "df['Fare']     = df['Fare'].fillna(df['Fare'].median())          # Ticket-Preis mit dem Median auffüllen"
   ]
  },
  {
   "cell_type": "markdown",
   "metadata": {},
   "source": [
    "### 3.2 Umwandlung der Eingangsdaten"
   ]
  },
  {
   "cell_type": "code",
   "execution_count": null,
   "metadata": {},
   "outputs": [],
   "source": [
    "df[\"Age\"] = df[\"Age\"].astype(\"int\") # Alter in Integer umwandeln"
   ]
  },
  {
   "cell_type": "code",
   "execution_count": null,
   "metadata": {},
   "outputs": [],
   "source": [
    "# Überprüfung der Umwandlung\n",
    "df.info()"
   ]
  },
  {
   "cell_type": "markdown",
   "metadata": {},
   "source": [
    "### 3.3 Datenexploration und Feature Engineering"
   ]
  },
  {
   "cell_type": "markdown",
   "metadata": {},
   "source": [
    "Könnte das Geschlecht einen Einfluss auf das Überleben haben?"
   ]
  },
  {
   "cell_type": "code",
   "execution_count": null,
   "metadata": {},
   "outputs": [],
   "source": [
    "# Geschlecht  vs. Überlebensanteil\n",
    "\n",
    "sns.catplot(x = \"Sex\", \n",
    "            y = \"Survived\", \n",
    "            kind = \"bar\", \n",
    "            data = df_train,\n",
    "            ci = None)"
   ]
  },
  {
   "cell_type": "markdown",
   "metadata": {},
   "source": [
    "Könnte die Ticket-Klasse einen Einfluss auf das Überleben haben?"
   ]
  },
  {
   "cell_type": "code",
   "execution_count": null,
   "metadata": {},
   "outputs": [],
   "source": [
    "# Ticket-Klasse vs. Überlebensanteil\n",
    "\n",
    "sns.catplot(x = \"Pclass\", \n",
    "            y = \"Survived\", \n",
    "            kind = \"bar\", \n",
    "            data = df_train,\n",
    "            ci = None)"
   ]
  },
  {
   "cell_type": "markdown",
   "metadata": {},
   "source": [
    "Könnte das Alter einen Einfluss auf das Überleben haben?"
   ]
  },
  {
   "cell_type": "code",
   "execution_count": null,
   "metadata": {},
   "outputs": [],
   "source": [
    "# Alter der Pasagier_Innen vs. Überleben\n",
    "sns.histplot(x = \"Age\", \n",
    "             hue = \"Survived\", \n",
    "             data = df_train)"
   ]
  },
  {
   "cell_type": "code",
   "execution_count": null,
   "metadata": {},
   "outputs": [],
   "source": [
    "# Altersgruppe anlegen\n",
    "df['AgeBin'] = pd.cut(df['Age'].astype(int), 6)"
   ]
  },
  {
   "cell_type": "code",
   "execution_count": null,
   "metadata": {},
   "outputs": [],
   "source": [
    "# Altergruppe  vs. Überlebensanteil\n",
    "sns.catplot(x = \"AgeBin\", \n",
    "            y = \"Survived\", \n",
    "            kind = \"bar\", \n",
    "            data = df,\n",
    "            ci = None)"
   ]
  },
  {
   "cell_type": "markdown",
   "metadata": {},
   "source": [
    "Könnte der Ticketpreis einen Einflüss auf das Überleben haben?"
   ]
  },
  {
   "cell_type": "code",
   "execution_count": null,
   "metadata": {},
   "outputs": [],
   "source": [
    "# Ticketpreis der Pasagier_Innen\n",
    "sns.histplot(x = \"Fare\", \n",
    "             hue = \"Survived\", \n",
    "             data = df_train)"
   ]
  },
  {
   "cell_type": "code",
   "execution_count": null,
   "metadata": {},
   "outputs": [],
   "source": [
    "# Ticketkathegorie anlegen\n",
    "df['FareBin'] = pd.qcut(df['Fare'], 6)"
   ]
  },
  {
   "cell_type": "code",
   "execution_count": null,
   "metadata": {},
   "outputs": [],
   "source": [
    "# FareBin vs Überlebensanteil\n",
    "sns.catplot(x = \"FareBin\", \n",
    "            y = \"Survived\", \n",
    "            kind = \"bar\", \n",
    "            data = df,\n",
    "            ci = None)"
   ]
  },
  {
   "cell_type": "markdown",
   "metadata": {},
   "source": [
    "Könnte es einen Einfluss auf das Überleben haben, wenn man alleine reist?"
   ]
  },
  {
   "cell_type": "code",
   "execution_count": null,
   "metadata": {},
   "outputs": [],
   "source": [
    "# Einzelreisende anlegen\n",
    "df['IsAlone']    = 0\n",
    "df['IsAlone'].loc[df['SibSp']+df['Parch'] == 0] = 1"
   ]
  },
  {
   "cell_type": "code",
   "execution_count": null,
   "metadata": {},
   "outputs": [],
   "source": [
    "# Einzelreisende vs Überlebensanteil\n",
    "sns.catplot(x = \"IsAlone\", \n",
    "            y = \"Survived\", \n",
    "            kind = \"bar\", \n",
    "            data = df,\n",
    "            ci = None)"
   ]
  },
  {
   "cell_type": "markdown",
   "metadata": {},
   "source": [
    "Könnte die Familiengröße einen Einfluss auf das Überleben haben?"
   ]
  },
  {
   "cell_type": "code",
   "execution_count": null,
   "metadata": {},
   "outputs": [],
   "source": [
    "# Familiengröße\n",
    "df['FamilySize'] = df['SibSp'] + df['Parch'] + 1"
   ]
  },
  {
   "cell_type": "code",
   "execution_count": null,
   "metadata": {},
   "outputs": [],
   "source": [
    "# Familiengröße vs Überlebensanteil\n",
    "sns.catplot(x = \"FamilySize\", \n",
    "            y = \"Survived\", \n",
    "            kind = \"bar\", \n",
    "            data = df,\n",
    "            ci = None)"
   ]
  },
  {
   "cell_type": "markdown",
   "metadata": {},
   "source": [
    "Könnte es einen Einfluss auf das Überleben haben, wenn man über eine Kabine verfügt?"
   ]
  },
  {
   "cell_type": "code",
   "execution_count": null,
   "metadata": {},
   "outputs": [],
   "source": [
    "# Kabineninhaber_In anlegen\n",
    "df['CabinOwn']   = 1\n",
    "df['CabinOwn']   = df['CabinOwn'] - df['Cabin'].isna().astype(\"int\")"
   ]
  },
  {
   "cell_type": "code",
   "execution_count": null,
   "metadata": {},
   "outputs": [],
   "source": [
    "# Einzelreisende vs Überlebensanteil\n",
    "sns.catplot(x = \"CabinOwn\", \n",
    "            y = \"Survived\", \n",
    "            kind = \"bar\", \n",
    "            data = df,\n",
    "            ci = None)"
   ]
  },
  {
   "cell_type": "markdown",
   "metadata": {},
   "source": [
    "### 2.4 Überflüssige Features löschen"
   ]
  },
  {
   "cell_type": "code",
   "execution_count": null,
   "metadata": {},
   "outputs": [],
   "source": [
    "# Löschen der Spalten Name, Cabin und Ticket\n",
    "df = df.drop([\"Name\", \"Cabin\", \"Ticket\"],axis = 1)"
   ]
  },
  {
   "cell_type": "markdown",
   "metadata": {},
   "source": [
    "### 2.5 Encoding der Features"
   ]
  },
  {
   "cell_type": "code",
   "execution_count": null,
   "metadata": {},
   "outputs": [],
   "source": [
    "label               = LabelEncoder()                      # Encoder Objekt anlegen\n",
    "df['Sex_Code']      = label.fit_transform(df['Sex'])      # Encodiertes Geschlecht\n",
    "df['Embarked_Code'] = label.fit_transform(df['Embarked']) # Encodierter Einschiffhafen\n",
    "df['AgeBin_Code']   = label.fit_transform(df['AgeBin'])   # Encodiertes Alter\n",
    "df['FareBin_Code']  = label.fit_transform(df['FareBin'])  # Encodierter Ticketpreis"
   ]
  },
  {
   "cell_type": "markdown",
   "metadata": {},
   "source": [
    "## Step 4: Modellierung\n",
    "(engl. Modeling) <br> \n",
    "Im Rahmen der Modellierung werden die für die Aufgabenstellung geeigneten Methoden des Data Minings auf den in der Datenvorbereitung erstellten Datensatz angewandt. <br> \n",
    "Typisch für diese Phase sind die Optimierung der Parameter und die Erstellung mehrerer Modelle."
   ]
  },
  {
   "cell_type": "markdown",
   "metadata": {},
   "source": [
    "### 4.1 Modellierungsverfahren auswählen"
   ]
  },
  {
   "cell_type": "markdown",
   "metadata": {},
   "source": [
    "Logistische Regression </p>\n",
    "https://scikit-learn.org/stable/modules/generated/sklearn.linear_model.LogisticRegression.html\n",
    "\n",
    "K-Nächste-Nachbarn </p>\n",
    "https://scikit-learn.org/stable/modules/generated/sklearn.neighbors.KNeighborsClassifier.html\n",
    "\n",
    "Entscheidungsbaum </p>\n",
    "https://scikit-learn.org/stable/modules/generated/sklearn.tree.DecisionTreeClassifier.html\n",
    "\n",
    "https://scikit-learn.org/stable/modules/generated/sklearn.ensemble.RandomForestClassifier.html#sklearn.ensemble.RandomForestClassifier\n"
   ]
  },
  {
   "cell_type": "markdown",
   "metadata": {},
   "source": [
    "### 4.2 Testdesign"
   ]
  },
  {
   "cell_type": "markdown",
   "metadata": {},
   "source": [
    "Es soll \"vorhergesagt\" werden, ob eine Passagier_In das Titanic Unglück überlebt hat.\n",
    "Die Modelle können genau zwei Werte ausgeben - Überlebt Ja/ Nein.\n",
    "Eine \"gutes\" Modell sollte einen möglichst großen Anteil korrekt prognostizieren, somit kann die Güte des Modells anhand des Anteils korrekt vorhergesagter Überlebenswerte bewertet werden."
   ]
  },
  {
   "cell_type": "markdown",
   "metadata": {},
   "source": [
    "Für die Bewertung der Modelle soll die Metrik \"Accuracy\" herangezogen werden. </p>\n",
    "https://scikit-learn.org/stable/modules/model_evaluation.html#accuracy-score"
   ]
  },
  {
   "cell_type": "markdown",
   "metadata": {},
   "source": [
    "\\begin{equation*}\n",
    "\\texttt{accuracy}(y, \\hat{y}) = \\frac{1}{n_\\text{samples}} \\sum_{i=0}^{n_\\text{samples}-1} 1(\\hat{y}_i = y_i)\n",
    "\\end{equation*}"
   ]
  },
  {
   "cell_type": "markdown",
   "metadata": {},
   "source": [
    "### 4.3 Aufteilung der Datensätze in Trainings- und Testdaten"
   ]
  },
  {
   "cell_type": "code",
   "execution_count": null,
   "metadata": {},
   "outputs": [],
   "source": [
    "# Zufallswert für die Aufteilung der Datensätze festlegen\n",
    "random_value = random.randrange(100) "
   ]
  },
  {
   "cell_type": "code",
   "execution_count": null,
   "metadata": {
    "scrolled": false
   },
   "outputs": [],
   "source": [
    "# Fester Trainingsdatensatz für das Training der ML-Modelle anlegen\n",
    "df_train = df[0:891]\n",
    "df_train.info()"
   ]
  },
  {
   "cell_type": "code",
   "execution_count": null,
   "metadata": {},
   "outputs": [],
   "source": [
    "# Fester Testdatensatz für die spätere Bewertung der ML-Modelle anlegen\n",
    "df_test  = df[891:]\n",
    "df_test.info()"
   ]
  },
  {
   "cell_type": "code",
   "execution_count": null,
   "metadata": {},
   "outputs": [],
   "source": [
    "# Parameter für das Training festlegen\n",
    "params = [\"Pclass\", \"Age\", \"SibSp\", \"Parch\", \"Fare\", \n",
    "          \"FamilySize\", \"IsAlone\", \"CabinOwn\", \"Sex_Code\", \n",
    "          \"Embarked_Code\", \"AgeBin_Code\", \"FareBin_Code\"]"
   ]
  },
  {
   "cell_type": "code",
   "execution_count": null,
   "metadata": {},
   "outputs": [],
   "source": [
    "# Trainingsdatensatz in Trainings- und Validierungsdaten aufteilen\n",
    "train_x, val_x, train_y, val_y = model_selection.train_test_split(df_train[params], \n",
    "                                                                  df_train[\"Survived\"],\n",
    "                                                                  random_state = random_value)"
   ]
  },
  {
   "cell_type": "code",
   "execution_count": null,
   "metadata": {},
   "outputs": [],
   "source": [
    "# Trainingsdatensatz ausgeben\n",
    "train_x.head(5)"
   ]
  },
  {
   "cell_type": "code",
   "execution_count": null,
   "metadata": {},
   "outputs": [],
   "source": [
    "# Überlebenswerte des Trainingsdatensatz ausgeben\n",
    "train_y.head(5)"
   ]
  },
  {
   "cell_type": "markdown",
   "metadata": {},
   "source": [
    "### 4.2 Training eines einfachen Logistischen Regressions Models"
   ]
  },
  {
   "cell_type": "code",
   "execution_count": null,
   "metadata": {},
   "outputs": [],
   "source": [
    "# Parameter für das Modell festlegen\n",
    "params_log = [\"Fare\"]\n",
    "\n",
    "# Model initialisieren\n",
    "log_reg = linear_model.LogisticRegression()\n",
    "\n",
    "# Model trainieren\n",
    "log_reg = log_reg.fit(train_x[params_log], train_y)"
   ]
  },
  {
   "cell_type": "markdown",
   "metadata": {},
   "source": [
    "### 4.3 Bewertung des Logistischen Regressions Models anhand der Trainingsdaten"
   ]
  },
  {
   "cell_type": "code",
   "execution_count": null,
   "metadata": {},
   "outputs": [],
   "source": [
    "# Model für Prognose verwenden und Prognose ausgeben\n",
    "log_reg_prediction = log_reg.predict(train_x[params_log])"
   ]
  },
  {
   "cell_type": "code",
   "execution_count": null,
   "metadata": {},
   "outputs": [],
   "source": [
    "# Ausgabe der prognostizierten Werte (erste 20 Werte)\n",
    "print(\"Prognostizierte Werte\")\n",
    "print(log_reg_prediction[:20])"
   ]
  },
  {
   "cell_type": "code",
   "execution_count": null,
   "metadata": {},
   "outputs": [],
   "source": [
    "# Wahre Werte ausgeben (erste 20 Werte)\n",
    "train_y_np = train_y.to_numpy() # Pandas Serie in Numpy Array umwandeln\n",
    "print(\"Wahre Werte\")\n",
    "print(train_y_np[:20])"
   ]
  },
  {
   "cell_type": "code",
   "execution_count": null,
   "metadata": {},
   "outputs": [],
   "source": [
    "# Vergleich zwischen Prognose und wahren Werten ausgeben\n",
    "difference_pred_true = log_reg_prediction - train_y_np\n",
    "print(\"Vergleich Prognose vs. Wahre Werte\")\n",
    "print(difference_pred_true[:20])"
   ]
  },
  {
   "cell_type": "code",
   "execution_count": null,
   "metadata": {},
   "outputs": [],
   "source": [
    "# Berechnen der Accuracy\n",
    "\n",
    "# Nullen im Vergleichs Array zählen\n",
    "count_zeros  = np.count_nonzero(log_reg_prediction - train_y.to_numpy() == 0. , axis=0) \n",
    "\n",
    "# Anzahl der Werte im Vergleichs Array zählen\n",
    "count_values = len(log_reg_prediction - train_y.to_numpy())\n",
    "\n",
    "# Anteil der korrekt vorhergesagten Werte zählen\n",
    "score        = count_zeros / count_values\n",
    "\n",
    "# Ergebnis ausgeben\n",
    "print(\"Genauigkeit des Models: %1.3f %%\"%(score))"
   ]
  },
  {
   "cell_type": "code",
   "execution_count": null,
   "metadata": {},
   "outputs": [],
   "source": [
    "# Berechnung der Accuracy mit einer Zeile mittels score-Methode\n",
    "score = log_reg.score(train_x[params_log], train_y)\n",
    "\n",
    "# Ergebnis ausgeben\n",
    "print(\"Genauigkeit des Models: %1.3f %%\"%(score))"
   ]
  },
  {
   "cell_type": "markdown",
   "metadata": {},
   "source": [
    "### 4.4 Bewertung des Logistischen Regressions Models anhand der Validierungsdaten"
   ]
  },
  {
   "cell_type": "code",
   "execution_count": null,
   "metadata": {},
   "outputs": [],
   "source": [
    "# Berechnung der Accuracy mit einer Zeile mittels score-Methode\n",
    "score = log_reg.score(val_x[params_log], val_y)\n",
    "\n",
    "# Ergebnis ausgeben\n",
    "print(\"Genauigkeit des Models: %1.3f %%\"%(score))"
   ]
  },
  {
   "cell_type": "markdown",
   "metadata": {},
   "source": [
    "### 4.5 Training eines Logistischen Regressions Models mit mehreren Inputs"
   ]
  },
  {
   "cell_type": "code",
   "execution_count": null,
   "metadata": {},
   "outputs": [],
   "source": [
    "# Parameter festlegen\n",
    "params_log = [\"CabinOwn\", \"Sex_Code\", \"Embarked_Code\", \"AgeBin_Code\", \"FareBin_Code\"]"
   ]
  },
  {
   "cell_type": "code",
   "execution_count": null,
   "metadata": {},
   "outputs": [],
   "source": [
    "# Model initialisieren und trainieren\n",
    "log_reg = linear_model.LogisticRegression()\n",
    "log_reg = log_reg.fit(train_x[params_log], train_y)"
   ]
  },
  {
   "cell_type": "code",
   "execution_count": null,
   "metadata": {},
   "outputs": [],
   "source": [
    "# Berechnung der Accuracy für die Trainingsdaten\n",
    "score = log_reg.score(train_x[params_log], train_y)\n",
    "print(\"Genauigkeit des Models: %1.3f %%\"%(score))"
   ]
  },
  {
   "cell_type": "markdown",
   "metadata": {},
   "source": [
    "### 4.6 Bewertung eines Logistischen Regressions Models mit mehreren Inputs"
   ]
  },
  {
   "cell_type": "code",
   "execution_count": null,
   "metadata": {},
   "outputs": [],
   "source": [
    "# Berechnung der Accuracy\n",
    "score = log_reg.score(val_x[params_log], val_y)\n",
    "print(\"Genauigkeit des Models: %1.3f %%\"%(score))"
   ]
  },
  {
   "cell_type": "markdown",
   "metadata": {},
   "source": [
    "### 4.7 Training eines k-Next-Neighbors Models"
   ]
  },
  {
   "cell_type": "code",
   "execution_count": null,
   "metadata": {},
   "outputs": [],
   "source": [
    "# Parameterdefinition\n",
    "params_knn = [\"CabinOwn\", \"Sex_Code\", \"Embarked_Code\", \"AgeBin_Code\", \"FareBin_Code\"]"
   ]
  },
  {
   "cell_type": "code",
   "execution_count": null,
   "metadata": {},
   "outputs": [],
   "source": [
    "# Model initialisieren, trainieren und Vorhersage erstellen\n",
    "knn = neighbors.KNeighborsClassifier(n_neighbors = 7)\n",
    "knn = knn.fit(train_x[params_knn], train_y)"
   ]
  },
  {
   "cell_type": "code",
   "execution_count": null,
   "metadata": {},
   "outputs": [],
   "source": [
    "# Berechnung der Accuracy für die Trainingsdaten\n",
    "score = knn.score(train_x[params_knn], train_y)\n",
    "print(\"Genauigkeit des Models: %1.3f %%\"%(score))"
   ]
  },
  {
   "cell_type": "markdown",
   "metadata": {},
   "source": [
    "### 4.8 Bewertung des k-Next-Neighbors Models"
   ]
  },
  {
   "cell_type": "code",
   "execution_count": null,
   "metadata": {},
   "outputs": [],
   "source": [
    "# Model score\n",
    "score = knn.score(val_x[params_knn], val_y)\n",
    "print(\"Genauigkeit des Models: %1.3f %%\"%(score))"
   ]
  },
  {
   "cell_type": "markdown",
   "metadata": {},
   "source": [
    "### 4.9 Hyperparameter-Tuning des k-Next-Neighbors Models"
   ]
  },
  {
   "cell_type": "code",
   "execution_count": null,
   "metadata": {},
   "outputs": [],
   "source": [
    "neighbors_list = [1, 3, 7, 11, 17]"
   ]
  },
  {
   "cell_type": "code",
   "execution_count": null,
   "metadata": {},
   "outputs": [],
   "source": [
    "for n in neighbors_list:\n",
    "    knn = neighbors.KNeighborsClassifier(n_neighbors = n)\n",
    "    knn = knn.fit(train_x[params_knn], train_y)\n",
    "    score_train = knn.score(train_x[params_knn], train_y)\n",
    "    score_val = knn.score(val_x[params_knn], val_y)\n",
    "    print(\"Neighbors: %1.0f Trainingsscore: %1.3f %% Validationscore: %1.3f %%\"%(n, score_train, score_val))"
   ]
  },
  {
   "cell_type": "markdown",
   "metadata": {},
   "source": [
    "### 4.10 Training eines Decision Tree"
   ]
  },
  {
   "cell_type": "code",
   "execution_count": null,
   "metadata": {},
   "outputs": [],
   "source": [
    "# Parameterdefinition\n",
    "params_dt = [\"CabinOwn\", \"Sex_Code\", \"Embarked_Code\", \"AgeBin_Code\", \"FareBin_Code\"]"
   ]
  },
  {
   "cell_type": "code",
   "execution_count": null,
   "metadata": {},
   "outputs": [],
   "source": [
    "# Model initialisieren und trainieren\n",
    "dtc = tree.DecisionTreeClassifier(max_depth = 5)\n",
    "dtc = dtc.fit(train_x[params_dt], train_y)"
   ]
  },
  {
   "cell_type": "code",
   "execution_count": null,
   "metadata": {},
   "outputs": [],
   "source": [
    "# Berechnung der Accuracy für die Trainingsdaten\n",
    "score = dtc.score(train_x[params_dt], train_y)\n",
    "print(\"Genauigkeit des Models: %1.3f %%\"%(score))"
   ]
  },
  {
   "cell_type": "markdown",
   "metadata": {},
   "source": [
    "### 4.11 Bewertung des Decision Tree"
   ]
  },
  {
   "cell_type": "code",
   "execution_count": null,
   "metadata": {
    "scrolled": true
   },
   "outputs": [],
   "source": [
    "# Model score\n",
    "score = dtc.score(val_x[params_dt], val_y)\n",
    "print(\"Genauigkeit des Models: %1.3f %%\"%(score))"
   ]
  },
  {
   "cell_type": "markdown",
   "metadata": {},
   "source": [
    "### 4.12 Training eines Random Forest Classifiers"
   ]
  },
  {
   "cell_type": "code",
   "execution_count": null,
   "metadata": {},
   "outputs": [],
   "source": [
    "# Parameterdefinition\n",
    "params_rf = [\"CabinOwn\", \"Sex_Code\", \"Embarked_Code\", \"AgeBin_Code\", \"FareBin_Code\"]"
   ]
  },
  {
   "cell_type": "code",
   "execution_count": null,
   "metadata": {},
   "outputs": [],
   "source": [
    "# Model initialisieren und trainieren\n",
    "rfc = ensemble.RandomForestClassifier(n_estimators = 10, \n",
    "                                      max_depth = 5)\n",
    "rfc = rfc.fit(train_x[params_rf], train_y)"
   ]
  },
  {
   "cell_type": "code",
   "execution_count": null,
   "metadata": {},
   "outputs": [],
   "source": [
    "# Berechnung der Accuracy für die Trainingsdaten\n",
    "score = rfc.score(train_x[params_rf], train_y)\n",
    "print(\"Genauigkeit des Models: %1.3f %%\"%(score))"
   ]
  },
  {
   "cell_type": "markdown",
   "metadata": {},
   "source": [
    "### 4.13 Bewertung des Random Forest Classifiers"
   ]
  },
  {
   "cell_type": "code",
   "execution_count": null,
   "metadata": {},
   "outputs": [],
   "source": [
    "# Model score\n",
    "score = rfc.score(val_x[params_rf], val_y)\n",
    "print(\"Genauigkeit des Models: %1.3f %%\"%(score))"
   ]
  },
  {
   "cell_type": "markdown",
   "metadata": {},
   "source": [
    "### 4.11 Modelvergleich"
   ]
  },
  {
   "cell_type": "code",
   "execution_count": null,
   "metadata": {},
   "outputs": [],
   "source": [
    "score = log_reg.score(val_x[params_log], val_y)\n",
    "print(\"Genauigkeit des Logistischen Regression Models: %1.3f %%\"%(score))\n",
    "\n",
    "score = knn.score(val_x[params_knn], val_y)\n",
    "print(\"Genauigkeit des KNN Models: %1.3f %%\"%(score))\n",
    "\n",
    "score = dtc.score(val_x[params_dt], val_y)\n",
    "print(\"Genauigkeit des Decision Tree: %1.3f %%\"%(score))\n",
    "\n",
    "score = rfc.score(val_x[params_rf], val_y)\n",
    "print(\"Genauigkeit des Random Forest Models: %1.3f %%\"%(score))"
   ]
  },
  {
   "cell_type": "markdown",
   "metadata": {},
   "source": [
    "### 4.12 Ensembling"
   ]
  },
  {
   "cell_type": "code",
   "execution_count": null,
   "metadata": {},
   "outputs": [],
   "source": [
    "# Kombination der Modelle zu einem Gesamtmodel mittels Ensemblings "
   ]
  },
  {
   "cell_type": "code",
   "execution_count": null,
   "metadata": {},
   "outputs": [],
   "source": [
    "# Liste mit den Modellen anlegen\n",
    "models = [(\"lr\", log_reg), \n",
    "          (\"knn\", knn), \n",
    "          (\"rf\", rfc),\n",
    "          (\"dt\", dtc)]"
   ]
  },
  {
   "cell_type": "code",
   "execution_count": null,
   "metadata": {},
   "outputs": [],
   "source": [
    "# Parameterdefinition\n",
    "params_hv = [\"CabinOwn\", \"Sex_Code\", \"Embarked_Code\", \"AgeBin_Code\", \"FareBin_Code\"]"
   ]
  },
  {
   "cell_type": "code",
   "execution_count": null,
   "metadata": {},
   "outputs": [],
   "source": [
    "# Model initialisieren und trainieren\n",
    "hard_vote = ensemble.VotingClassifier(estimators = models, voting = \"hard\")\n",
    "hard_vote = hard_vote.fit(train_x[params_hv], train_y)"
   ]
  },
  {
   "cell_type": "code",
   "execution_count": null,
   "metadata": {
    "scrolled": true
   },
   "outputs": [],
   "source": [
    "# Berechnung der Accuracy für die Trainingsdaten\n",
    "score = hard_vote.score(train_x[params_hv], train_y)\n",
    "print(\"Genauigkeit des Models: %1.3f %%\"%(score))"
   ]
  },
  {
   "cell_type": "markdown",
   "metadata": {},
   "source": [
    "### 4.13 Bewertung des Ensemblings"
   ]
  },
  {
   "cell_type": "code",
   "execution_count": null,
   "metadata": {},
   "outputs": [],
   "source": [
    "# Model score\n",
    "score = hard_vote.score(val_x[params_hv], val_y)\n",
    "print(\"Genauigkeit des Models: %1.3f %%\"%(score))"
   ]
  },
  {
   "cell_type": "markdown",
   "metadata": {},
   "source": [
    "### 4.14 Anwendung auf ungesehene Daten"
   ]
  },
  {
   "cell_type": "code",
   "execution_count": null,
   "metadata": {},
   "outputs": [],
   "source": [
    "# Laden der wahren Werte\n",
    "true_values = pd.read_csv(\"data/solution.csv\")"
   ]
  },
  {
   "cell_type": "code",
   "execution_count": null,
   "metadata": {},
   "outputs": [],
   "source": [
    "# Anwendung des Hard Vote Ensembles auf die ungesehenen Daten\n",
    "score_ensemble = hard_vote.score(df_test[params_hv], true_values[\"Survived\"])\n",
    "\n",
    "print(\"Genauigkeit des Models: %1.3f %%\"%(score_ensemble))"
   ]
  },
  {
   "cell_type": "markdown",
   "metadata": {},
   "source": [
    "## 5. Evaluation"
   ]
  },
  {
   "cell_type": "markdown",
   "metadata": {},
   "source": [
    "### 5.1 Prognose mit einem Zufallsexperiment (Münzwurf)"
   ]
  },
  {
   "cell_type": "code",
   "execution_count": null,
   "metadata": {},
   "outputs": [],
   "source": [
    "# Zufälliges Vorhersage erstellen\n",
    "random_prediction = np.random.randint(0,2,size = len(true_values)).astype(float)"
   ]
  },
  {
   "cell_type": "code",
   "execution_count": null,
   "metadata": {
    "scrolled": true
   },
   "outputs": [],
   "source": [
    "print(random_prediction)"
   ]
  },
  {
   "cell_type": "code",
   "execution_count": null,
   "metadata": {},
   "outputs": [],
   "source": [
    "# Wahre Werte ausgeben\n",
    "true_values_np = true_values[\"Survived\"].to_numpy() # Pandas Serie in Numpy Array umwandeln\n",
    "\n",
    "# Vergleich zwischen Zufall und wahren Werten ausgeben\n",
    "difference_pred_true = random_prediction - true_values_np\n",
    "\n",
    "# Berechnen der Vorhersagegenauigkeit\n",
    "# Nullen im Vergleichs Array zählen\n",
    "count_zeros  = np.count_nonzero(random_prediction - true_values_np == 0. , axis=0)\n",
    "# Anzahl der Werte im Vergleichs Array zählen\n",
    "count_values = len(random_prediction - true_values_np)\n",
    "# Anteil der korrekt vorhergesagten Werte zählen\n",
    "score_random = count_zeros / count_values                                             \n",
    "print(\"Genauigkeit des Models: %1.3f %%\"%(score_random))"
   ]
  },
  {
   "cell_type": "markdown",
   "metadata": {},
   "source": [
    "### 5.2 Prognose mit sehr einfachem Modell (alle Frauen überleben)"
   ]
  },
  {
   "cell_type": "code",
   "execution_count": null,
   "metadata": {},
   "outputs": [],
   "source": [
    "woman_survive = (df_test[\"Sex_Code\"]==0).astype(int)\n",
    "woman_survive = woman_survive.to_numpy()\n",
    "woman_survive"
   ]
  },
  {
   "cell_type": "code",
   "execution_count": null,
   "metadata": {},
   "outputs": [],
   "source": [
    "# Wahre Werte ausgeben\n",
    "true_values_np = true_values[\"Survived\"].to_numpy() # Pandas Serie in Numpy Array umwandeln\n",
    "\n",
    "# Vergleich zwischen Zufall und wahren Werten ausgeben\n",
    "difference_pred_true = woman_survive - true_values_np\n",
    "\n",
    "# Berechnen der Vorhersagegenauigkeit\n",
    "# Nullen im Vergleichs Array zählen\n",
    "count_zeros  = np.count_nonzero(woman_survive - true_values_np == 0. , axis=0)\n",
    "# Anzahl der Werte im Vergleichs Array zählen\n",
    "count_values = len(woman_survive - true_values_np)\n",
    "# Anteil der korrekt vorhergesagten Werte zählen\n",
    "score_woman  = count_zeros / count_values                                             \n",
    "print(\"Genauigkeit des Models: %1.3f %%\"%(score_woman))"
   ]
  },
  {
   "cell_type": "markdown",
   "metadata": {},
   "source": [
    "### 5.3 Vergleich der Modelle"
   ]
  },
  {
   "cell_type": "code",
   "execution_count": null,
   "metadata": {},
   "outputs": [],
   "source": [
    "# DataFrame mit den Trainingsergebnissen\n",
    "scores = pd.DataFrame(data = ([\"Random\", score_random],\n",
    "                              [\"Woman\", score_woman],\n",
    "                              [\"Ensemble\", score_ensemble], \n",
    "                              [\"My_Best\", 0.79425],\n",
    "                              [\"Top1_Kaggle\", 0.85645]),\n",
    "                      columns = [\"Algo\", \"Score\"])\n",
    "\n",
    "# Plotten der Ergebnisse\n",
    "sns.catplot(x = \"Algo\", \n",
    "            y = \"Score\", \n",
    "            kind = \"bar\", \n",
    "            data = scores,\n",
    "            ci = None)"
   ]
  },
  {
   "cell_type": "markdown",
   "metadata": {
    "slideshow": {
     "slide_type": "subslide"
    }
   },
   "source": [
    "[1] Crisp DM Vorgehensmodel https://www.bigdata-insider.de/was-ist-crisp-dm-a-815478/"
   ]
  }
 ],
 "metadata": {
  "kernelspec": {
   "display_name": "Python 3",
   "language": "python",
   "name": "python3"
  },
  "language_info": {
   "codemirror_mode": {
    "name": "ipython",
    "version": 3
   },
   "file_extension": ".py",
   "mimetype": "text/x-python",
   "name": "python",
   "nbconvert_exporter": "python",
   "pygments_lexer": "ipython3",
   "version": "3.8.5"
  }
 },
 "nbformat": 4,
 "nbformat_minor": 4
}
