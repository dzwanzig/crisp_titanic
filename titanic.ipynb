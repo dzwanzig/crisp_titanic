{
 "cells": [
  {
   "cell_type": "markdown",
   "metadata": {
    "slideshow": {
     "slide_type": "slide"
    }
   },
   "source": [
    "# Titanic DataSet Kaggle Challenge"
   ]
  },
  {
   "cell_type": "markdown",
   "metadata": {
    "slideshow": {
     "slide_type": "slide"
    }
   },
   "source": [
    "## Step 1: Geschäftsverständnis\n",
    "\n",
    "(engl. Business Understanding) In der Phase des Geschäftsverständnisses geht es darum, die konkreten Ziele und Anforderungen für das Data Mining festzulegen. Ergebnis dieser Phase ist die Formulierung der Aufgabenstellung und die Beschreibung der geplanten groben Vorgehensweise. [1]"
   ]
  },
  {
   "cell_type": "markdown",
   "metadata": {
    "slideshow": {
     "slide_type": "slide"
    }
   },
   "source": [
    "<img src=\"visuals/titanic_sketch.png\">"
   ]
  },
  {
   "cell_type": "markdown",
   "metadata": {
    "slideshow": {
     "slide_type": "subslide"
    }
   },
   "source": [
    "https://de.wikipedia.org/wiki/RMS_Titanic"
   ]
  },
  {
   "cell_type": "markdown",
   "metadata": {},
   "source": [
    "### Aufgabe:  \"Vorhersage\" ob eine Passagier_In den Untergang der Titanic überlebt hat"
   ]
  },
  {
   "cell_type": "markdown",
   "metadata": {},
   "source": [
    "## Step 2: Datenverständnis \n",
    "\n",
    "(engl. Data Understanding) Im Rahmen des Datenverständnisses wird versucht, sich einen ersten Überblick über die zur Verfügung stehenden Daten und deren Qualität zu verschaffen. Es erfolgt eine Analyse und Bewertung der Datenqualität. Probleme mit der Qualität der vorhandenen Daten in Bezug auf die in der vorherigen Phase festgelegten Aufgabenstellung sind zu benennen. [1]"
   ]
  },
  {
   "cell_type": "markdown",
   "metadata": {},
   "source": [
    "### 2.1 Vorbereitung der Entwicklungsumgebung\n",
    "Import der notwendigen Python Bibliotheken"
   ]
  },
  {
   "cell_type": "code",
   "execution_count": 84,
   "metadata": {},
   "outputs": [],
   "source": [
    "import pandas as pd             # Pandas Bibliothek für Datenverarbeitung, siehe https://pandas.pydata.org/\n",
    "import matplotlib.pyplot as plt # Matplotlib für die Datenvisualisierung, siehe https://matplotlib.org/\n",
    "import seaborn as sns           # Seaborn für die Datenvisualisierung, siehe https://seaborn.pydata.org/\n",
    "import numpy as np              # Numpy für effiziente Rechenoperationen, siehe https://numpy.org/\n",
    "import os                       # OS für den Zugriff auf externe Daten, siehe https://docs.python.org/3/library/os.html\n",
    "import random                   # Generieren von Pseudo-Zufallszahlen, siehe https://docs.python.org/3/library/random.html#module-random\n",
    "\n",
    "# Sklearn ML-Algorithmen\n",
    "from sklearn import tree, linear_model, neighbors, naive_bayes, ensemble, naive_bayes\n",
    "\n",
    "# Sklearn Modellierungs-Helfer\n",
    "from sklearn.preprocessing import LabelEncoder\n",
    "from sklearn import feature_selection\n",
    "from sklearn import model_selection\n",
    "from sklearn import metrics\n",
    "from sklearn.tree import export_graphviz"
   ]
  },
  {
   "cell_type": "markdown",
   "metadata": {},
   "source": [
    "Formatierung der Mark-up Tabellen: linksbündige Ausrichtung"
   ]
  },
  {
   "cell_type": "code",
   "execution_count": 2,
   "metadata": {},
   "outputs": [
    {
     "data": {
      "text/html": [
       "<style>\n",
       "table {float:left}\n",
       "</style>\n"
      ],
      "text/plain": [
       "<IPython.core.display.HTML object>"
      ]
     },
     "metadata": {},
     "output_type": "display_data"
    }
   ],
   "source": [
    "%%html\n",
    "<style>\n",
    "table {float:left}\n",
    "</style>"
   ]
  },
  {
   "cell_type": "code",
   "execution_count": 3,
   "metadata": {},
   "outputs": [],
   "source": [
    "%matplotlib inline\n",
    "import warnings\n",
    "warnings.filterwarnings('ignore')\n",
    "sns.set_theme(style=\"ticks\")"
   ]
  },
  {
   "cell_type": "markdown",
   "metadata": {},
   "source": [
    "### 2.2 Datenimport\n",
    "Import und merge der CSV Daten <br>\n",
    "Quelle: https://www.kaggle.com/c/titanic/data"
   ]
  },
  {
   "cell_type": "code",
   "execution_count": 85,
   "metadata": {},
   "outputs": [],
   "source": [
    "# Trainingsdaten-Datei einlesen\n",
    "df_train = pd.read_csv(\"data/train.csv\")\n",
    "df_train[\"Survived\"] = df_train[\"Survived\"].astype(int)\n",
    "\n",
    "# Testdaten-Datei einlesen\n",
    "df_test  = pd.read_csv(\"data/test.csv\")\n",
    "\n",
    "# beide Datensätze mergen, Trainingsdatensatz 0:892, Testdatensatz 892:1310\n",
    "df = pd.concat([df_train, df_test], ignore_index = True)\n"
   ]
  },
  {
   "cell_type": "markdown",
   "metadata": {},
   "source": [
    "### 2.3 Datenerkundung\n",
    "Einen Überblick über die vorhandenen Daten verschaffen <br>\n",
    "Quellen: https://www.kaggle.com/ldfreeman3/a-data-science-framework-to-achieve-99-accuracy"
   ]
  },
  {
   "cell_type": "markdown",
   "metadata": {},
   "source": [
    "#### Beschreibung der Daten\n",
    "\n",
    "| Variable | Bedeutung | Beschreibung |\n",
    "| :- | :- | :- |\n",
    "| PassengerId | Passagier_In-Nummer | Zahl zwischen 1 und 1309 |\n",
    "| Survived | Hat die Passagier_In den Untergang überlebt | 0 = Nein, 1 = Ja |\n",
    "| Pclass | Ticket-Klasse | 1 = 1. Klasse, 2 = 2. Klasse, 3 = 3. Klasse\n",
    "| Name | Name der Passagier_In | Nachname, Vorname |\n",
    "| Sex | Geschlecht der Passagier_In | male = Mann, female = Frau |\n",
    "| Age | Alter der Passagier_In |\n",
    "| SibSp | Anzahl der Geschwister/ Ehepartner an Board |\n",
    "| Parch | Anzahl der Kinder/ Eltern an Board |\n",
    "| Ticket | Ticket-Nummer |\n",
    "| Fare | Ticket-Preis |\n",
    "| Cabin | Kabinennummer |\n",
    "| Embarked | Einschiffungshafen | C = Cherbourg, Q = Queenstown, S = Southampton |"
   ]
  },
  {
   "cell_type": "code",
   "execution_count": 88,
   "metadata": {},
   "outputs": [
    {
     "data": {
      "text/html": [
       "<div>\n",
       "<style scoped>\n",
       "    .dataframe tbody tr th:only-of-type {\n",
       "        vertical-align: middle;\n",
       "    }\n",
       "\n",
       "    .dataframe tbody tr th {\n",
       "        vertical-align: top;\n",
       "    }\n",
       "\n",
       "    .dataframe thead th {\n",
       "        text-align: right;\n",
       "    }\n",
       "</style>\n",
       "<table border=\"1\" class=\"dataframe\">\n",
       "  <thead>\n",
       "    <tr style=\"text-align: right;\">\n",
       "      <th></th>\n",
       "      <th>PassengerId</th>\n",
       "      <th>Survived</th>\n",
       "      <th>Pclass</th>\n",
       "      <th>Name</th>\n",
       "      <th>Sex</th>\n",
       "      <th>Age</th>\n",
       "      <th>SibSp</th>\n",
       "      <th>Parch</th>\n",
       "      <th>Ticket</th>\n",
       "      <th>Fare</th>\n",
       "      <th>Cabin</th>\n",
       "      <th>Embarked</th>\n",
       "    </tr>\n",
       "  </thead>\n",
       "  <tbody>\n",
       "    <tr>\n",
       "      <th>89</th>\n",
       "      <td>90</td>\n",
       "      <td>0.0</td>\n",
       "      <td>3</td>\n",
       "      <td>Celotti, Mr. Francesco</td>\n",
       "      <td>male</td>\n",
       "      <td>24.0</td>\n",
       "      <td>0</td>\n",
       "      <td>0</td>\n",
       "      <td>343275</td>\n",
       "      <td>8.0500</td>\n",
       "      <td>NaN</td>\n",
       "      <td>S</td>\n",
       "    </tr>\n",
       "    <tr>\n",
       "      <th>1132</th>\n",
       "      <td>1133</td>\n",
       "      <td>NaN</td>\n",
       "      <td>2</td>\n",
       "      <td>Christy, Mrs. (Alice Frances)</td>\n",
       "      <td>female</td>\n",
       "      <td>45.0</td>\n",
       "      <td>0</td>\n",
       "      <td>2</td>\n",
       "      <td>237789</td>\n",
       "      <td>30.0000</td>\n",
       "      <td>NaN</td>\n",
       "      <td>S</td>\n",
       "    </tr>\n",
       "    <tr>\n",
       "      <th>776</th>\n",
       "      <td>777</td>\n",
       "      <td>0.0</td>\n",
       "      <td>3</td>\n",
       "      <td>Tobin, Mr. Roger</td>\n",
       "      <td>male</td>\n",
       "      <td>NaN</td>\n",
       "      <td>0</td>\n",
       "      <td>0</td>\n",
       "      <td>383121</td>\n",
       "      <td>7.7500</td>\n",
       "      <td>F38</td>\n",
       "      <td>Q</td>\n",
       "    </tr>\n",
       "    <tr>\n",
       "      <th>496</th>\n",
       "      <td>497</td>\n",
       "      <td>1.0</td>\n",
       "      <td>1</td>\n",
       "      <td>Eustis, Miss. Elizabeth Mussey</td>\n",
       "      <td>female</td>\n",
       "      <td>54.0</td>\n",
       "      <td>1</td>\n",
       "      <td>0</td>\n",
       "      <td>36947</td>\n",
       "      <td>78.2667</td>\n",
       "      <td>D20</td>\n",
       "      <td>C</td>\n",
       "    </tr>\n",
       "    <tr>\n",
       "      <th>544</th>\n",
       "      <td>545</td>\n",
       "      <td>0.0</td>\n",
       "      <td>1</td>\n",
       "      <td>Douglas, Mr. Walter Donald</td>\n",
       "      <td>male</td>\n",
       "      <td>50.0</td>\n",
       "      <td>1</td>\n",
       "      <td>0</td>\n",
       "      <td>PC 17761</td>\n",
       "      <td>106.4250</td>\n",
       "      <td>C86</td>\n",
       "      <td>C</td>\n",
       "    </tr>\n",
       "    <tr>\n",
       "      <th>468</th>\n",
       "      <td>469</td>\n",
       "      <td>0.0</td>\n",
       "      <td>3</td>\n",
       "      <td>Scanlan, Mr. James</td>\n",
       "      <td>male</td>\n",
       "      <td>NaN</td>\n",
       "      <td>0</td>\n",
       "      <td>0</td>\n",
       "      <td>36209</td>\n",
       "      <td>7.7250</td>\n",
       "      <td>NaN</td>\n",
       "      <td>Q</td>\n",
       "    </tr>\n",
       "    <tr>\n",
       "      <th>1221</th>\n",
       "      <td>1222</td>\n",
       "      <td>NaN</td>\n",
       "      <td>2</td>\n",
       "      <td>Davies, Mrs. John Morgan (Elizabeth Agnes Mary...</td>\n",
       "      <td>female</td>\n",
       "      <td>48.0</td>\n",
       "      <td>0</td>\n",
       "      <td>2</td>\n",
       "      <td>C.A. 33112</td>\n",
       "      <td>36.7500</td>\n",
       "      <td>NaN</td>\n",
       "      <td>S</td>\n",
       "    </tr>\n",
       "    <tr>\n",
       "      <th>1074</th>\n",
       "      <td>1075</td>\n",
       "      <td>NaN</td>\n",
       "      <td>3</td>\n",
       "      <td>Lane, Mr. Patrick</td>\n",
       "      <td>male</td>\n",
       "      <td>NaN</td>\n",
       "      <td>0</td>\n",
       "      <td>0</td>\n",
       "      <td>7935</td>\n",
       "      <td>7.7500</td>\n",
       "      <td>NaN</td>\n",
       "      <td>Q</td>\n",
       "    </tr>\n",
       "    <tr>\n",
       "      <th>1016</th>\n",
       "      <td>1017</td>\n",
       "      <td>NaN</td>\n",
       "      <td>3</td>\n",
       "      <td>Cribb, Miss. Laura Alice</td>\n",
       "      <td>female</td>\n",
       "      <td>17.0</td>\n",
       "      <td>0</td>\n",
       "      <td>1</td>\n",
       "      <td>371362</td>\n",
       "      <td>16.1000</td>\n",
       "      <td>NaN</td>\n",
       "      <td>S</td>\n",
       "    </tr>\n",
       "    <tr>\n",
       "      <th>158</th>\n",
       "      <td>159</td>\n",
       "      <td>0.0</td>\n",
       "      <td>3</td>\n",
       "      <td>Smiljanic, Mr. Mile</td>\n",
       "      <td>male</td>\n",
       "      <td>NaN</td>\n",
       "      <td>0</td>\n",
       "      <td>0</td>\n",
       "      <td>315037</td>\n",
       "      <td>8.6625</td>\n",
       "      <td>NaN</td>\n",
       "      <td>S</td>\n",
       "    </tr>\n",
       "  </tbody>\n",
       "</table>\n",
       "</div>"
      ],
      "text/plain": [
       "      PassengerId  Survived  Pclass  \\\n",
       "89             90       0.0       3   \n",
       "1132         1133       NaN       2   \n",
       "776           777       0.0       3   \n",
       "496           497       1.0       1   \n",
       "544           545       0.0       1   \n",
       "468           469       0.0       3   \n",
       "1221         1222       NaN       2   \n",
       "1074         1075       NaN       3   \n",
       "1016         1017       NaN       3   \n",
       "158           159       0.0       3   \n",
       "\n",
       "                                                   Name     Sex   Age  SibSp  \\\n",
       "89                               Celotti, Mr. Francesco    male  24.0      0   \n",
       "1132                      Christy, Mrs. (Alice Frances)  female  45.0      0   \n",
       "776                                    Tobin, Mr. Roger    male   NaN      0   \n",
       "496                      Eustis, Miss. Elizabeth Mussey  female  54.0      1   \n",
       "544                          Douglas, Mr. Walter Donald    male  50.0      1   \n",
       "468                                  Scanlan, Mr. James    male   NaN      0   \n",
       "1221  Davies, Mrs. John Morgan (Elizabeth Agnes Mary...  female  48.0      0   \n",
       "1074                                  Lane, Mr. Patrick    male   NaN      0   \n",
       "1016                           Cribb, Miss. Laura Alice  female  17.0      0   \n",
       "158                                 Smiljanic, Mr. Mile    male   NaN      0   \n",
       "\n",
       "      Parch      Ticket      Fare Cabin Embarked  \n",
       "89        0      343275    8.0500   NaN        S  \n",
       "1132      2      237789   30.0000   NaN        S  \n",
       "776       0      383121    7.7500   F38        Q  \n",
       "496       0       36947   78.2667   D20        C  \n",
       "544       0    PC 17761  106.4250   C86        C  \n",
       "468       0       36209    7.7250   NaN        Q  \n",
       "1221      2  C.A. 33112   36.7500   NaN        S  \n",
       "1074      0        7935    7.7500   NaN        Q  \n",
       "1016      1      371362   16.1000   NaN        S  \n",
       "158       0      315037    8.6625   NaN        S  "
      ]
     },
     "execution_count": 88,
     "metadata": {},
     "output_type": "execute_result"
    }
   ],
   "source": [
    "# Tabellarische Darstellung von 10 zufälligen Datensätze erzeugen\n",
    "df.sample(10) "
   ]
  },
  {
   "cell_type": "code",
   "execution_count": 89,
   "metadata": {},
   "outputs": [
    {
     "name": "stdout",
     "output_type": "stream",
     "text": [
      "<class 'pandas.core.frame.DataFrame'>\n",
      "RangeIndex: 1309 entries, 0 to 1308\n",
      "Data columns (total 12 columns):\n",
      " #   Column       Non-Null Count  Dtype  \n",
      "---  ------       --------------  -----  \n",
      " 0   PassengerId  1309 non-null   int64  \n",
      " 1   Survived     891 non-null    float64\n",
      " 2   Pclass       1309 non-null   int64  \n",
      " 3   Name         1309 non-null   object \n",
      " 4   Sex          1309 non-null   object \n",
      " 5   Age          1046 non-null   float64\n",
      " 6   SibSp        1309 non-null   int64  \n",
      " 7   Parch        1309 non-null   int64  \n",
      " 8   Ticket       1309 non-null   object \n",
      " 9   Fare         1308 non-null   float64\n",
      " 10  Cabin        295 non-null    object \n",
      " 11  Embarked     1307 non-null   object \n",
      "dtypes: float64(3), int64(4), object(5)\n",
      "memory usage: 122.8+ KB\n"
     ]
    }
   ],
   "source": [
    "# Beschreibung des gesamten Datensatzes: Fehlende Werte und Datentype\n",
    "df.info() "
   ]
  },
  {
   "cell_type": "code",
   "execution_count": 90,
   "metadata": {},
   "outputs": [
    {
     "data": {
      "text/html": [
       "<div>\n",
       "<style scoped>\n",
       "    .dataframe tbody tr th:only-of-type {\n",
       "        vertical-align: middle;\n",
       "    }\n",
       "\n",
       "    .dataframe tbody tr th {\n",
       "        vertical-align: top;\n",
       "    }\n",
       "\n",
       "    .dataframe thead th {\n",
       "        text-align: right;\n",
       "    }\n",
       "</style>\n",
       "<table border=\"1\" class=\"dataframe\">\n",
       "  <thead>\n",
       "    <tr style=\"text-align: right;\">\n",
       "      <th></th>\n",
       "      <th>PassengerId</th>\n",
       "      <th>Survived</th>\n",
       "      <th>Pclass</th>\n",
       "      <th>Age</th>\n",
       "      <th>SibSp</th>\n",
       "      <th>Parch</th>\n",
       "      <th>Fare</th>\n",
       "    </tr>\n",
       "  </thead>\n",
       "  <tbody>\n",
       "    <tr>\n",
       "      <th>count</th>\n",
       "      <td>1309.000000</td>\n",
       "      <td>891.000000</td>\n",
       "      <td>1309.000000</td>\n",
       "      <td>1046.000000</td>\n",
       "      <td>1309.000000</td>\n",
       "      <td>1309.000000</td>\n",
       "      <td>1308.000000</td>\n",
       "    </tr>\n",
       "    <tr>\n",
       "      <th>mean</th>\n",
       "      <td>655.000000</td>\n",
       "      <td>0.383838</td>\n",
       "      <td>2.294882</td>\n",
       "      <td>29.881138</td>\n",
       "      <td>0.498854</td>\n",
       "      <td>0.385027</td>\n",
       "      <td>33.295479</td>\n",
       "    </tr>\n",
       "    <tr>\n",
       "      <th>std</th>\n",
       "      <td>378.020061</td>\n",
       "      <td>0.486592</td>\n",
       "      <td>0.837836</td>\n",
       "      <td>14.413493</td>\n",
       "      <td>1.041658</td>\n",
       "      <td>0.865560</td>\n",
       "      <td>51.758668</td>\n",
       "    </tr>\n",
       "    <tr>\n",
       "      <th>min</th>\n",
       "      <td>1.000000</td>\n",
       "      <td>0.000000</td>\n",
       "      <td>1.000000</td>\n",
       "      <td>0.170000</td>\n",
       "      <td>0.000000</td>\n",
       "      <td>0.000000</td>\n",
       "      <td>0.000000</td>\n",
       "    </tr>\n",
       "    <tr>\n",
       "      <th>25%</th>\n",
       "      <td>328.000000</td>\n",
       "      <td>0.000000</td>\n",
       "      <td>2.000000</td>\n",
       "      <td>21.000000</td>\n",
       "      <td>0.000000</td>\n",
       "      <td>0.000000</td>\n",
       "      <td>7.895800</td>\n",
       "    </tr>\n",
       "    <tr>\n",
       "      <th>50%</th>\n",
       "      <td>655.000000</td>\n",
       "      <td>0.000000</td>\n",
       "      <td>3.000000</td>\n",
       "      <td>28.000000</td>\n",
       "      <td>0.000000</td>\n",
       "      <td>0.000000</td>\n",
       "      <td>14.454200</td>\n",
       "    </tr>\n",
       "    <tr>\n",
       "      <th>75%</th>\n",
       "      <td>982.000000</td>\n",
       "      <td>1.000000</td>\n",
       "      <td>3.000000</td>\n",
       "      <td>39.000000</td>\n",
       "      <td>1.000000</td>\n",
       "      <td>0.000000</td>\n",
       "      <td>31.275000</td>\n",
       "    </tr>\n",
       "    <tr>\n",
       "      <th>max</th>\n",
       "      <td>1309.000000</td>\n",
       "      <td>1.000000</td>\n",
       "      <td>3.000000</td>\n",
       "      <td>80.000000</td>\n",
       "      <td>8.000000</td>\n",
       "      <td>9.000000</td>\n",
       "      <td>512.329200</td>\n",
       "    </tr>\n",
       "  </tbody>\n",
       "</table>\n",
       "</div>"
      ],
      "text/plain": [
       "       PassengerId    Survived       Pclass          Age        SibSp  \\\n",
       "count  1309.000000  891.000000  1309.000000  1046.000000  1309.000000   \n",
       "mean    655.000000    0.383838     2.294882    29.881138     0.498854   \n",
       "std     378.020061    0.486592     0.837836    14.413493     1.041658   \n",
       "min       1.000000    0.000000     1.000000     0.170000     0.000000   \n",
       "25%     328.000000    0.000000     2.000000    21.000000     0.000000   \n",
       "50%     655.000000    0.000000     3.000000    28.000000     0.000000   \n",
       "75%     982.000000    1.000000     3.000000    39.000000     1.000000   \n",
       "max    1309.000000    1.000000     3.000000    80.000000     8.000000   \n",
       "\n",
       "             Parch         Fare  \n",
       "count  1309.000000  1308.000000  \n",
       "mean      0.385027    33.295479  \n",
       "std       0.865560    51.758668  \n",
       "min       0.000000     0.000000  \n",
       "25%       0.000000     7.895800  \n",
       "50%       0.000000    14.454200  \n",
       "75%       0.000000    31.275000  \n",
       "max       9.000000   512.329200  "
      ]
     },
     "execution_count": 90,
     "metadata": {},
     "output_type": "execute_result"
    }
   ],
   "source": [
    "# Statistische Beschreibung der numerischen Features des Datensatzes\n",
    "df.describe(include = np.number) "
   ]
  },
  {
   "cell_type": "code",
   "execution_count": 91,
   "metadata": {},
   "outputs": [
    {
     "data": {
      "text/html": [
       "<div>\n",
       "<style scoped>\n",
       "    .dataframe tbody tr th:only-of-type {\n",
       "        vertical-align: middle;\n",
       "    }\n",
       "\n",
       "    .dataframe tbody tr th {\n",
       "        vertical-align: top;\n",
       "    }\n",
       "\n",
       "    .dataframe thead th {\n",
       "        text-align: right;\n",
       "    }\n",
       "</style>\n",
       "<table border=\"1\" class=\"dataframe\">\n",
       "  <thead>\n",
       "    <tr style=\"text-align: right;\">\n",
       "      <th></th>\n",
       "      <th>Name</th>\n",
       "      <th>Sex</th>\n",
       "      <th>Ticket</th>\n",
       "      <th>Cabin</th>\n",
       "      <th>Embarked</th>\n",
       "    </tr>\n",
       "  </thead>\n",
       "  <tbody>\n",
       "    <tr>\n",
       "      <th>count</th>\n",
       "      <td>1309</td>\n",
       "      <td>1309</td>\n",
       "      <td>1309</td>\n",
       "      <td>295</td>\n",
       "      <td>1307</td>\n",
       "    </tr>\n",
       "    <tr>\n",
       "      <th>unique</th>\n",
       "      <td>1307</td>\n",
       "      <td>2</td>\n",
       "      <td>929</td>\n",
       "      <td>186</td>\n",
       "      <td>3</td>\n",
       "    </tr>\n",
       "    <tr>\n",
       "      <th>top</th>\n",
       "      <td>Kelly, Mr. James</td>\n",
       "      <td>male</td>\n",
       "      <td>CA. 2343</td>\n",
       "      <td>C23 C25 C27</td>\n",
       "      <td>S</td>\n",
       "    </tr>\n",
       "    <tr>\n",
       "      <th>freq</th>\n",
       "      <td>2</td>\n",
       "      <td>843</td>\n",
       "      <td>11</td>\n",
       "      <td>6</td>\n",
       "      <td>914</td>\n",
       "    </tr>\n",
       "  </tbody>\n",
       "</table>\n",
       "</div>"
      ],
      "text/plain": [
       "                    Name   Sex    Ticket        Cabin Embarked\n",
       "count               1309  1309      1309          295     1307\n",
       "unique              1307     2       929          186        3\n",
       "top     Kelly, Mr. James  male  CA. 2343  C23 C25 C27        S\n",
       "freq                   2   843        11            6      914"
      ]
     },
     "execution_count": 91,
     "metadata": {},
     "output_type": "execute_result"
    }
   ],
   "source": [
    "# Statistische Beschreibung der nicht numerischen Features des Datensatzes\n",
    "df.describe(include = np.object) "
   ]
  },
  {
   "cell_type": "markdown",
   "metadata": {},
   "source": [
    "### 2.4 Visualisierung\n",
    "\n",
    "Für die Visualisierung der Daten wird die Bibliothek Seaborn genutzt. </p>\n",
    "Infos und Benutzungshinweise unter https://seaborn.pydata.org/index.html"
   ]
  },
  {
   "cell_type": "markdown",
   "metadata": {},
   "source": [
    "# Fokus auf Infos aus dem Datensatz legen - nicht auf das Überleben"
   ]
  },
  {
   "cell_type": "code",
   "execution_count": 92,
   "metadata": {},
   "outputs": [
    {
     "data": {
      "image/png": "[encoded data removed]",
      "text/plain": [
       "<Figure size 432x288 with 1 Axes>"
      ]
     },
     "metadata": {},
     "output_type": "display_data"
    }
   ],
   "source": [
    "# Alter der Pasagier_Innen als Histogramm\n",
    "sns.histplot(data = df, x = df[\"Age\"], bins = 16, kde = False)\n",
    "plt.show()"
   ]
  },
  {
   "cell_type": "code",
   "execution_count": 93,
   "metadata": {},
   "outputs": [
    {
     "data": {
      "text/plain": [
       "<AxesSubplot:xlabel='Fare', ylabel='Count'>"
      ]
     },
     "execution_count": 93,
     "metadata": {},
     "output_type": "execute_result"
    },
    {
     "data": {
      "image/png": "[encoded data removed]",
      "text/plain": [
       "<Figure size 432x288 with 1 Axes>"
      ]
     },
     "metadata": {},
     "output_type": "display_data"
    }
   ],
   "source": [
    "# Alter der Pasagier_Innen\n",
    "sns.histplot(data = df, x = df[\"Fare\"], bins = 20, kde = False)"
   ]
  },
  {
   "cell_type": "code",
   "execution_count": 94,
   "metadata": {},
   "outputs": [
    {
     "data": {
      "text/plain": [
       "<seaborn.axisgrid.FacetGrid at 0x7fbc9ca58550>"
      ]
     },
     "execution_count": 94,
     "metadata": {},
     "output_type": "execute_result"
    },
    {
     "data": {
      "image/png": "[encoded data removed]",
      "text/plain": [
       "<Figure size 1080x360 with 3 Axes>"
      ]
     },
     "metadata": {},
     "output_type": "display_data"
    }
   ],
   "source": [
    "sns.catplot(x = \"Survived\", \n",
    "            col = \"Pclass\", \n",
    "            col_wrap = 3, \n",
    "            data = df_train,\n",
    "            kind=\"count\")"
   ]
  },
  {
   "cell_type": "code",
   "execution_count": 95,
   "metadata": {},
   "outputs": [
    {
     "data": {
      "text/plain": [
       "<seaborn.axisgrid.FacetGrid at 0x7fbc9c937eb0>"
      ]
     },
     "execution_count": 95,
     "metadata": {},
     "output_type": "execute_result"
    },
    {
     "data": {
      "image/png": "[encoded data removed]",
      "text/plain": [
       "<Figure size 360x360 with 1 Axes>"
      ]
     },
     "metadata": {},
     "output_type": "display_data"
    }
   ],
   "source": [
    "# Verteilung der Klassen\n",
    "sns.catplot(x = \"Pclass\", \n",
    "            y = \"Survived\", \n",
    "            kind = \"bar\", \n",
    "            data = df_train, \n",
    "            ci=None)"
   ]
  },
  {
   "cell_type": "code",
   "execution_count": 96,
   "metadata": {},
   "outputs": [
    {
     "data": {
      "text/plain": [
       "<seaborn.axisgrid.FacetGrid at 0x7fbc9d793bb0>"
      ]
     },
     "execution_count": 96,
     "metadata": {},
     "output_type": "execute_result"
    },
    {
     "data": {
      "image/png": "[encoded data removed]",
      "text/plain": [
       "<Figure size 360x360 with 1 Axes>"
      ]
     },
     "metadata": {},
     "output_type": "display_data"
    }
   ],
   "source": [
    "# Alter der Pasagier_Innen vs Überleben\n",
    "sns.catplot(x = \"Sex\", \n",
    "            y = \"Survived\", \n",
    "            kind = \"bar\", \n",
    "            data = df_train,\n",
    "            ci=None)"
   ]
  },
  {
   "cell_type": "code",
   "execution_count": 97,
   "metadata": {},
   "outputs": [
    {
     "data": {
      "text/plain": [
       "<AxesSubplot:xlabel='Age', ylabel='Count'>"
      ]
     },
     "execution_count": 97,
     "metadata": {},
     "output_type": "execute_result"
    },
    {
     "data": {
      "image/png": "[encoded data removed]",
      "text/plain": [
       "<Figure size 432x288 with 1 Axes>"
      ]
     },
     "metadata": {},
     "output_type": "display_data"
    }
   ],
   "source": [
    "# Alter vs Überleben\n",
    "sns.histplot(x = \"Age\", \n",
    "             hue = \"Survived\", \n",
    "             data = df_train)"
   ]
  },
  {
   "cell_type": "code",
   "execution_count": 98,
   "metadata": {},
   "outputs": [
    {
     "data": {
      "text/plain": [
       "<AxesSubplot:xlabel='Sex', ylabel='Count'>"
      ]
     },
     "execution_count": 98,
     "metadata": {},
     "output_type": "execute_result"
    },
    {
     "data": {
      "image/png": "[encoded data removed]",
      "text/plain": [
       "<Figure size 432x288 with 1 Axes>"
      ]
     },
     "metadata": {},
     "output_type": "display_data"
    }
   ],
   "source": [
    "# Geschlecht vs Überleben\n",
    "sns.histplot(x = \"Sex\", \n",
    "             hue = \"Survived\", \n",
    "             data = df_train)"
   ]
  },
  {
   "cell_type": "code",
   "execution_count": 99,
   "metadata": {},
   "outputs": [
    {
     "data": {
      "text/plain": [
       "<seaborn.axisgrid.FacetGrid at 0x7fbc9c77f100>"
      ]
     },
     "execution_count": 99,
     "metadata": {},
     "output_type": "execute_result"
    },
    {
     "data": {
      "image/png": "[encoded data removed]",
      "text/plain": [
       "<Figure size 421.55x360 with 1 Axes>"
      ]
     },
     "metadata": {},
     "output_type": "display_data"
    }
   ],
   "source": [
    "# Klasse vs Überleben\n",
    "sns.displot(x = \"Pclass\", hue = \"Survived\", data = df_train, discrete = True)"
   ]
  },
  {
   "cell_type": "markdown",
   "metadata": {},
   "source": [
    "### 2.5 Erkenntnisse"
   ]
  },
  {
   "cell_type": "markdown",
   "metadata": {},
   "source": [
    "#### Beschreibung der Daten\n",
    "\n",
    "| Variable | Bedeutung | Beschreibung |Formatierung fehlerhaft | Formatierung soll | Fehlende Werte |\n",
    "| :--- | :--- | :--- | :--- | :--- | :--- |\n",
    "| PassengerId | Passagier_In-Nummer | Zahl zwischen 1 und 1309 | ja | Integer | nein |\n",
    "| Survived | Hat die Passagier_In den Untergang überlebt | 0 = Nein, 1 = Ja | nein | | nein |\n",
    "| Pclass | Ticket-Klasse | 1 = 1. Klasse, 2 = 2. Klasse, 3 = 3. Klasse ja | Integer | | ja |\n",
    "| Name | Name der Passagier_In | Nachname, Vorname | nein | | nein | \n",
    "| Sex | Geschlecht der Passagier_In | male = Mann, female = Frau | nein | | ja |\n",
    "| Age | Alter der Passagier_In | | ja | Integer | ja |\n",
    "| SibSp | Anzahl der Geschwister/ Ehepartner an Board | | nein | | nein |\n",
    "| Parch | Anzahl der Kinder/ Eltern an Board | | nein | | nein |\n",
    "| Ticket | Ticket-Nummer | |  nein | | nein |\n",
    "| Fare | Ticket-Preis | |  nein | | ja |\n",
    "| Cabin | Kabinennummer | |  nein | | ja |\n",
    "| Embarked | Einschiffungshafen | C = Cherbourg, Q = Queenstown, S = Southampton |  nein | | ja |"
   ]
  },
  {
   "cell_type": "markdown",
   "metadata": {},
   "source": [
    "## Step 3: Datenvorbereitung\n",
    "(engl. Data Preparation) Die Datenvorbereitung dient dazu, einen finalen Datensatz zu erstellen, der die Basis für die nächste Phase der Modellierung bildet. [1]"
   ]
  },
  {
   "cell_type": "markdown",
   "metadata": {},
   "source": [
    "### 3.1 Auffüllen der fehlenden Werte "
   ]
  },
  {
   "cell_type": "code",
   "execution_count": 100,
   "metadata": {},
   "outputs": [],
   "source": [
    "df[\"Age\"]      = df['Age'].fillna(df['Age'].median())            # Alter mit dem Median auffüllen\n",
    "df['Embarked'] = df['Embarked'].fillna(df['Embarked'].mode()[0]) # Einschiffhafen mit dem Modus auffüllen\n",
    "df['Fare']     = df['Fare'].fillna(df['Fare'].median())          # Ticket-Preis mit dem Median auffüllen"
   ]
  },
  {
   "cell_type": "markdown",
   "metadata": {},
   "source": [
    "### 3.2 Umwandlung der Eingangsdaten"
   ]
  },
  {
   "cell_type": "code",
   "execution_count": 102,
   "metadata": {},
   "outputs": [],
   "source": [
    "df[\"Age\"] = df[\"Age\"].astype(\"int\") # Alter in Integer umwandeln"
   ]
  },
  {
   "cell_type": "code",
   "execution_count": 103,
   "metadata": {},
   "outputs": [
    {
     "name": "stdout",
     "output_type": "stream",
     "text": [
      "<class 'pandas.core.frame.DataFrame'>\n",
      "RangeIndex: 1309 entries, 0 to 1308\n",
      "Data columns (total 12 columns):\n",
      " #   Column       Non-Null Count  Dtype  \n",
      "---  ------       --------------  -----  \n",
      " 0   PassengerId  1309 non-null   int64  \n",
      " 1   Survived     891 non-null    float64\n",
      " 2   Pclass       1309 non-null   int64  \n",
      " 3   Name         1309 non-null   object \n",
      " 4   Sex          1309 non-null   object \n",
      " 5   Age          1309 non-null   int64  \n",
      " 6   SibSp        1309 non-null   int64  \n",
      " 7   Parch        1309 non-null   int64  \n",
      " 8   Ticket       1309 non-null   object \n",
      " 9   Fare         1309 non-null   float64\n",
      " 10  Cabin        295 non-null    object \n",
      " 11  Embarked     1309 non-null   object \n",
      "dtypes: float64(2), int64(5), object(5)\n",
      "memory usage: 122.8+ KB\n"
     ]
    }
   ],
   "source": [
    "# Überprüfung der Umwandlung\n",
    "df.info()"
   ]
  },
  {
   "cell_type": "markdown",
   "metadata": {},
   "source": [
    "### 3.3 Datenexploration und Feature Engineering"
   ]
  },
  {
   "cell_type": "markdown",
   "metadata": {},
   "source": [
    "Könnte das Geschlecht einen Einfluss auf das Überleben haben?"
   ]
  },
  {
   "cell_type": "code",
   "execution_count": 104,
   "metadata": {},
   "outputs": [
    {
     "data": {
      "text/plain": [
       "<seaborn.axisgrid.FacetGrid at 0x7fbc9c5e2e50>"
      ]
     },
     "execution_count": 104,
     "metadata": {},
     "output_type": "execute_result"
    },
    {
     "data": {
      "image/png": "[encoded data removed]",
      "text/plain": [
       "<Figure size 360x360 with 1 Axes>"
      ]
     },
     "metadata": {},
     "output_type": "display_data"
    }
   ],
   "source": [
    "# Geschlecht  vs. Überlebensanteil\n",
    "\n",
    "sns.catplot(x = \"Sex\", \n",
    "            y = \"Survived\", \n",
    "            kind = \"bar\", \n",
    "            data = df_train,\n",
    "            ci = None)"
   ]
  },
  {
   "cell_type": "markdown",
   "metadata": {},
   "source": [
    "Könnte die Ticket-Klasse einen Einfluss auf das Überleben haben?"
   ]
  },
  {
   "cell_type": "code",
   "execution_count": 105,
   "metadata": {},
   "outputs": [
    {
     "data": {
      "text/plain": [
       "<seaborn.axisgrid.FacetGrid at 0x7fbc9c84a700>"
      ]
     },
     "execution_count": 105,
     "metadata": {},
     "output_type": "execute_result"
    },
    {
     "data": {
      "image/png": "[encoded data removed]",
      "text/plain": [
       "<Figure size 360x360 with 1 Axes>"
      ]
     },
     "metadata": {},
     "output_type": "display_data"
    }
   ],
   "source": [
    "# Ticket-Klasse vs. Überlebensanteil\n",
    "\n",
    "sns.catplot(x = \"Pclass\", \n",
    "            y = \"Survived\", \n",
    "            kind = \"bar\", \n",
    "            data = df_train,\n",
    "            ci = None)"
   ]
  },
  {
   "cell_type": "markdown",
   "metadata": {},
   "source": [
    "Könnte das Alter einen Einfluss auf das Überleben haben?"
   ]
  },
  {
   "cell_type": "code",
   "execution_count": 106,
   "metadata": {},
   "outputs": [
    {
     "data": {
      "text/plain": [
       "<AxesSubplot:xlabel='Age', ylabel='Count'>"
      ]
     },
     "execution_count": 106,
     "metadata": {},
     "output_type": "execute_result"
    },
    {
     "data": {
      "image/png": "[encoded data removed]",
      "text/plain": [
       "<Figure size 432x288 with 1 Axes>"
      ]
     },
     "metadata": {},
     "output_type": "display_data"
    }
   ],
   "source": [
    "# Alter der Pasagier_Innen vs. Überleben\n",
    "sns.histplot(x = \"Age\", \n",
    "             hue = \"Survived\", \n",
    "             data = df_train)"
   ]
  },
  {
   "cell_type": "code",
   "execution_count": 107,
   "metadata": {},
   "outputs": [],
   "source": [
    "# Altersgruppe anlegen\n",
    "df['AgeBin'] = pd.cut(df['Age'].astype(int), 6)"
   ]
  },
  {
   "cell_type": "code",
   "execution_count": 108,
   "metadata": {},
   "outputs": [
    {
     "data": {
      "text/plain": [
       "<seaborn.axisgrid.FacetGrid at 0x7fbc9cb667c0>"
      ]
     },
     "execution_count": 108,
     "metadata": {},
     "output_type": "execute_result"
    },
    {
     "data": {
      "image/png": "[encoded data removed]",
      "text/plain": [
       "<Figure size 360x360 with 1 Axes>"
      ]
     },
     "metadata": {},
     "output_type": "display_data"
    }
   ],
   "source": [
    "# Altergruppe  vs. Überlebensanteil\n",
    "sns.catplot(x = \"AgeBin\", \n",
    "            y = \"Survived\", \n",
    "            kind = \"bar\", \n",
    "            data = df,\n",
    "            ci = None)"
   ]
  },
  {
   "cell_type": "markdown",
   "metadata": {},
   "source": [
    "Könnte der Ticketpreis einen Einflüss auf das Überleben haben?"
   ]
  },
  {
   "cell_type": "code",
   "execution_count": 109,
   "metadata": {},
   "outputs": [
    {
     "data": {
      "text/plain": [
       "<AxesSubplot:xlabel='Fare', ylabel='Count'>"
      ]
     },
     "execution_count": 109,
     "metadata": {},
     "output_type": "execute_result"
    },
    {
     "data": {
      "image/png": "[encoded data removed]",
      "text/plain": [
       "<Figure size 432x288 with 1 Axes>"
      ]
     },
     "metadata": {},
     "output_type": "display_data"
    }
   ],
   "source": [
    "# Ticketpreis der Pasagier_Innen\n",
    "sns.histplot(x = \"Fare\", \n",
    "             hue = \"Survived\", \n",
    "             data = df_train)"
   ]
  },
  {
   "cell_type": "code",
   "execution_count": 110,
   "metadata": {},
   "outputs": [],
   "source": [
    "# Ticketkathegorie anlegen\n",
    "df['FareBin'] = pd.qcut(df['Fare'], 6)"
   ]
  },
  {
   "cell_type": "code",
   "execution_count": 111,
   "metadata": {},
   "outputs": [
    {
     "data": {
      "text/plain": [
       "<seaborn.axisgrid.FacetGrid at 0x7fbc9c5070a0>"
      ]
     },
     "execution_count": 111,
     "metadata": {},
     "output_type": "execute_result"
    },
    {
     "data": {
      "image/png": "[encoded data removed]",
      "text/plain": [
       "<Figure size 360x360 with 1 Axes>"
      ]
     },
     "metadata": {},
     "output_type": "display_data"
    }
   ],
   "source": [
    "# FareBin vs Überlebensanteil\n",
    "sns.catplot(x = \"FareBin\", \n",
    "            y = \"Survived\", \n",
    "            kind = \"bar\", \n",
    "            data = df,\n",
    "            ci = None)"
   ]
  },
  {
   "cell_type": "markdown",
   "metadata": {},
   "source": [
    "Könnte es einen Einfluss auf das Überleben haben, wenn man alleine reist?"
   ]
  },
  {
   "cell_type": "code",
   "execution_count": 112,
   "metadata": {},
   "outputs": [],
   "source": [
    "# Einzelreisende anlegen\n",
    "df['IsAlone']    = 0\n",
    "df['IsAlone'].loc[df['SibSp']+df['Parch'] == 0] = 1"
   ]
  },
  {
   "cell_type": "code",
   "execution_count": 113,
   "metadata": {},
   "outputs": [
    {
     "data": {
      "text/plain": [
       "<seaborn.axisgrid.FacetGrid at 0x7fbc9cbb8be0>"
      ]
     },
     "execution_count": 113,
     "metadata": {},
     "output_type": "execute_result"
    },
    {
     "data": {
      "image/png": "[encoded data removed]",
      "text/plain": [
       "<Figure size 360x360 with 1 Axes>"
      ]
     },
     "metadata": {},
     "output_type": "display_data"
    }
   ],
   "source": [
    "# Einzelreisende vs Überlebensanteil\n",
    "sns.catplot(x = \"IsAlone\", \n",
    "            y = \"Survived\", \n",
    "            kind = \"bar\", \n",
    "            data = df,\n",
    "            ci = None)"
   ]
  },
  {
   "cell_type": "markdown",
   "metadata": {},
   "source": [
    "Könnte die Familiengröße einen Einfluss auf das Überleben haben?"
   ]
  },
  {
   "cell_type": "code",
   "execution_count": 114,
   "metadata": {},
   "outputs": [],
   "source": [
    "# Familiengröße\n",
    "df['FamilySize'] = df['SibSp'] + df['Parch'] + 1"
   ]
  },
  {
   "cell_type": "code",
   "execution_count": 115,
   "metadata": {},
   "outputs": [
    {
     "data": {
      "text/plain": [
       "<seaborn.axisgrid.FacetGrid at 0x7fbc9c1755e0>"
      ]
     },
     "execution_count": 115,
     "metadata": {},
     "output_type": "execute_result"
    },
    {
     "data": {
      "image/png": "[encoded data removed]",
      "text/plain": [
       "<Figure size 360x360 with 1 Axes>"
      ]
     },
     "metadata": {},
     "output_type": "display_data"
    }
   ],
   "source": [
    "# Familiengröße vs Überlebensanteil\n",
    "sns.catplot(x = \"FamilySize\", \n",
    "            y = \"Survived\", \n",
    "            kind = \"bar\", \n",
    "            data = df,\n",
    "            ci = None)"
   ]
  },
  {
   "cell_type": "markdown",
   "metadata": {},
   "source": [
    "Könnte es einen Einfluss auf das Überleben haben, wenn man über eine Kabine verfügt?"
   ]
  },
  {
   "cell_type": "code",
   "execution_count": 116,
   "metadata": {},
   "outputs": [],
   "source": [
    "# Kabineninhaber_In anlegen\n",
    "df['CabinOwn']   = 1\n",
    "df['CabinOwn']   = df['CabinOwn'] - df['Cabin'].isna().astype(\"int\")"
   ]
  },
  {
   "cell_type": "code",
   "execution_count": 117,
   "metadata": {},
   "outputs": [
    {
     "data": {
      "text/plain": [
       "<seaborn.axisgrid.FacetGrid at 0x7fbc9c118cd0>"
      ]
     },
     "execution_count": 117,
     "metadata": {},
     "output_type": "execute_result"
    },
    {
     "data": {
      "image/png": "[encoded data removed]",
      "text/plain": [
       "<Figure size 360x360 with 1 Axes>"
      ]
     },
     "metadata": {},
     "output_type": "display_data"
    }
   ],
   "source": [
    "# Einzelreisende vs Überlebensanteil\n",
    "sns.catplot(x = \"CabinOwn\", \n",
    "            y = \"Survived\", \n",
    "            kind = \"bar\", \n",
    "            data = df,\n",
    "            ci = None)"
   ]
  },
  {
   "cell_type": "markdown",
   "metadata": {},
   "source": [
    "### 2.4 Überflüssige Features löschen"
   ]
  },
  {
   "cell_type": "code",
   "execution_count": 118,
   "metadata": {},
   "outputs": [],
   "source": [
    "# Löschen der Spalten Name, Cabin und Ticket\n",
    "df = df.drop([\"Name\", \"Cabin\", \"Ticket\"],axis = 1)"
   ]
  },
  {
   "cell_type": "markdown",
   "metadata": {},
   "source": [
    "### 2.5 Encoding der Features"
   ]
  },
  {
   "cell_type": "code",
   "execution_count": 119,
   "metadata": {},
   "outputs": [],
   "source": [
    "label               = LabelEncoder()                      # Encoder Objekt anlegen\n",
    "df['Sex_Code']      = label.fit_transform(df['Sex'])      # Encodiertes Geschlecht\n",
    "df['Embarked_Code'] = label.fit_transform(df['Embarked']) # Encodierter Einschiffhafen\n",
    "df['AgeBin_Code']   = label.fit_transform(df['AgeBin'])   # Encodiertes Alter\n",
    "df['FareBin_Code']  = label.fit_transform(df['FareBin'])  # Encodierter Ticketpreis"
   ]
  },
  {
   "cell_type": "markdown",
   "metadata": {},
   "source": [
    "## Step 4: Modellierung\n",
    "(engl. Modeling) <br> \n",
    "Im Rahmen der Modellierung werden die für die Aufgabenstellung geeigneten Methoden des Data Minings auf den in der Datenvorbereitung erstellten Datensatz angewandt. <br> \n",
    "Typisch für diese Phase sind die Optimierung der Parameter und die Erstellung mehrerer Modelle."
   ]
  },
  {
   "cell_type": "markdown",
   "metadata": {},
   "source": [
    "### 4.1 Modellierungsverfahren auswählen"
   ]
  },
  {
   "cell_type": "markdown",
   "metadata": {},
   "source": [
    "Logistische Regression </p>\n",
    "https://scikit-learn.org/stable/modules/generated/sklearn.linear_model.LogisticRegression.html\n",
    "\n",
    "K-Nächste-Nachbarn </p>\n",
    "https://scikit-learn.org/stable/modules/generated/sklearn.neighbors.KNeighborsClassifier.html\n",
    "\n",
    "Entscheidungsbaum </p>\n",
    "https://scikit-learn.org/stable/modules/generated/sklearn.tree.DecisionTreeClassifier.html\n",
    "\n",
    "https://scikit-learn.org/stable/modules/generated/sklearn.ensemble.RandomForestClassifier.html#sklearn.ensemble.RandomForestClassifier\n"
   ]
  },
  {
   "cell_type": "markdown",
   "metadata": {},
   "source": [
    "### 4.2 Testdesign"
   ]
  },
  {
   "cell_type": "markdown",
   "metadata": {},
   "source": [
    "Es soll \"vorhergesagt\" werden, ob eine Passagier_In das Titanic Unglück überlebt hat.\n",
    "Die Modelle können genau zwei Werte ausgeben - Überlebt Ja/ Nein.\n",
    "Eine \"gutes\" Modell sollte einen möglichst großen Anteil korrekt prognostizieren, somit kann die Güte des Modells anhand des Anteils korrekt vorhergesagter Überlebenswerte bewertet werden."
   ]
  },
  {
   "cell_type": "markdown",
   "metadata": {},
   "source": [
    "Für die Bewertung der Modelle soll die Metrik \"Accuracy\" herangezogen werden. </p>\n",
    "https://scikit-learn.org/stable/modules/model_evaluation.html#accuracy-score"
   ]
  },
  {
   "cell_type": "markdown",
   "metadata": {},
   "source": [
    "\\begin{equation*}\n",
    "\\texttt{accuracy}(y, \\hat{y}) = \\frac{1}{n_\\text{samples}} \\sum_{i=0}^{n_\\text{samples}-1} 1(\\hat{y}_i = y_i)\n",
    "\\end{equation*}"
   ]
  },
  {
   "cell_type": "markdown",
   "metadata": {},
   "source": [
    "### 4.3 Aufteilung der Datensätze in Trainings- und Testdaten"
   ]
  },
  {
   "cell_type": "code",
   "execution_count": 120,
   "metadata": {},
   "outputs": [],
   "source": [
    "# Zufallswert für die Aufteilung der Datensätze festlegen\n",
    "random_value = random.randrange(100) "
   ]
  },
  {
   "cell_type": "code",
   "execution_count": 121,
   "metadata": {
    "scrolled": false
   },
   "outputs": [
    {
     "name": "stdout",
     "output_type": "stream",
     "text": [
      "<class 'pandas.core.frame.DataFrame'>\n",
      "RangeIndex: 891 entries, 0 to 890\n",
      "Data columns (total 18 columns):\n",
      " #   Column         Non-Null Count  Dtype   \n",
      "---  ------         --------------  -----   \n",
      " 0   PassengerId    891 non-null    int64   \n",
      " 1   Survived       891 non-null    float64 \n",
      " 2   Pclass         891 non-null    int64   \n",
      " 3   Sex            891 non-null    object  \n",
      " 4   Age            891 non-null    int64   \n",
      " 5   SibSp          891 non-null    int64   \n",
      " 6   Parch          891 non-null    int64   \n",
      " 7   Fare           891 non-null    float64 \n",
      " 8   Embarked       891 non-null    object  \n",
      " 9   AgeBin         891 non-null    category\n",
      " 10  FareBin        891 non-null    category\n",
      " 11  IsAlone        891 non-null    int64   \n",
      " 12  FamilySize     891 non-null    int64   \n",
      " 13  CabinOwn       891 non-null    int64   \n",
      " 14  Sex_Code       891 non-null    int64   \n",
      " 15  Embarked_Code  891 non-null    int64   \n",
      " 16  AgeBin_Code    891 non-null    int64   \n",
      " 17  FareBin_Code   891 non-null    int64   \n",
      "dtypes: category(2), float64(2), int64(12), object(2)\n",
      "memory usage: 113.7+ KB\n"
     ]
    }
   ],
   "source": [
    "# Fester Trainingsdatensatz für das Training der ML-Modelle anlegen\n",
    "df_train = df[0:891]\n",
    "df_train.info()"
   ]
  },
  {
   "cell_type": "code",
   "execution_count": 122,
   "metadata": {},
   "outputs": [
    {
     "name": "stdout",
     "output_type": "stream",
     "text": [
      "<class 'pandas.core.frame.DataFrame'>\n",
      "RangeIndex: 418 entries, 891 to 1308\n",
      "Data columns (total 18 columns):\n",
      " #   Column         Non-Null Count  Dtype   \n",
      "---  ------         --------------  -----   \n",
      " 0   PassengerId    418 non-null    int64   \n",
      " 1   Survived       0 non-null      float64 \n",
      " 2   Pclass         418 non-null    int64   \n",
      " 3   Sex            418 non-null    object  \n",
      " 4   Age            418 non-null    int64   \n",
      " 5   SibSp          418 non-null    int64   \n",
      " 6   Parch          418 non-null    int64   \n",
      " 7   Fare           418 non-null    float64 \n",
      " 8   Embarked       418 non-null    object  \n",
      " 9   AgeBin         418 non-null    category\n",
      " 10  FareBin        418 non-null    category\n",
      " 11  IsAlone        418 non-null    int64   \n",
      " 12  FamilySize     418 non-null    int64   \n",
      " 13  CabinOwn       418 non-null    int64   \n",
      " 14  Sex_Code       418 non-null    int64   \n",
      " 15  Embarked_Code  418 non-null    int64   \n",
      " 16  AgeBin_Code    418 non-null    int64   \n",
      " 17  FareBin_Code   418 non-null    int64   \n",
      "dtypes: category(2), float64(2), int64(12), object(2)\n",
      "memory usage: 53.7+ KB\n"
     ]
    }
   ],
   "source": [
    "# Fester Testdatensatz für die spätere Bewertung der ML-Modelle anlegen\n",
    "df_test  = df[891:]\n",
    "df_test.info()"
   ]
  },
  {
   "cell_type": "code",
   "execution_count": 123,
   "metadata": {},
   "outputs": [],
   "source": [
    "# Parameter für das Training festlegen\n",
    "params = [\"Pclass\", \"Age\", \"SibSp\", \"Parch\", \"Fare\", \n",
    "          \"FamilySize\", \"IsAlone\", \"CabinOwn\", \"Sex_Code\", \n",
    "          \"Embarked_Code\", \"AgeBin_Code\", \"FareBin_Code\"]"
   ]
  },
  {
   "cell_type": "code",
   "execution_count": 124,
   "metadata": {},
   "outputs": [],
   "source": [
    "# Trainingsdatensatz in Trainings- und Validierungsdaten aufteilen\n",
    "train_x, val_x, train_y, val_y = model_selection.train_test_split(df_train[params], \n",
    "                                                                  df_train[\"Survived\"],\n",
    "                                                                  random_state = random_value)"
   ]
  },
  {
   "cell_type": "code",
   "execution_count": 125,
   "metadata": {},
   "outputs": [
    {
     "data": {
      "text/html": [
       "<div>\n",
       "<style scoped>\n",
       "    .dataframe tbody tr th:only-of-type {\n",
       "        vertical-align: middle;\n",
       "    }\n",
       "\n",
       "    .dataframe tbody tr th {\n",
       "        vertical-align: top;\n",
       "    }\n",
       "\n",
       "    .dataframe thead th {\n",
       "        text-align: right;\n",
       "    }\n",
       "</style>\n",
       "<table border=\"1\" class=\"dataframe\">\n",
       "  <thead>\n",
       "    <tr style=\"text-align: right;\">\n",
       "      <th></th>\n",
       "      <th>Pclass</th>\n",
       "      <th>Age</th>\n",
       "      <th>SibSp</th>\n",
       "      <th>Parch</th>\n",
       "      <th>Fare</th>\n",
       "      <th>FamilySize</th>\n",
       "      <th>IsAlone</th>\n",
       "      <th>CabinOwn</th>\n",
       "      <th>Sex_Code</th>\n",
       "      <th>Embarked_Code</th>\n",
       "      <th>AgeBin_Code</th>\n",
       "      <th>FareBin_Code</th>\n",
       "    </tr>\n",
       "  </thead>\n",
       "  <tbody>\n",
       "    <tr>\n",
       "      <th>555</th>\n",
       "      <td>1</td>\n",
       "      <td>62</td>\n",
       "      <td>0</td>\n",
       "      <td>0</td>\n",
       "      <td>26.550</td>\n",
       "      <td>1</td>\n",
       "      <td>1</td>\n",
       "      <td>0</td>\n",
       "      <td>1</td>\n",
       "      <td>2</td>\n",
       "      <td>4</td>\n",
       "      <td>4</td>\n",
       "    </tr>\n",
       "    <tr>\n",
       "      <th>823</th>\n",
       "      <td>3</td>\n",
       "      <td>27</td>\n",
       "      <td>0</td>\n",
       "      <td>1</td>\n",
       "      <td>12.475</td>\n",
       "      <td>2</td>\n",
       "      <td>0</td>\n",
       "      <td>1</td>\n",
       "      <td>0</td>\n",
       "      <td>2</td>\n",
       "      <td>2</td>\n",
       "      <td>2</td>\n",
       "    </tr>\n",
       "    <tr>\n",
       "      <th>683</th>\n",
       "      <td>3</td>\n",
       "      <td>14</td>\n",
       "      <td>5</td>\n",
       "      <td>2</td>\n",
       "      <td>46.900</td>\n",
       "      <td>8</td>\n",
       "      <td>0</td>\n",
       "      <td>0</td>\n",
       "      <td>1</td>\n",
       "      <td>2</td>\n",
       "      <td>1</td>\n",
       "      <td>4</td>\n",
       "    </tr>\n",
       "    <tr>\n",
       "      <th>840</th>\n",
       "      <td>3</td>\n",
       "      <td>20</td>\n",
       "      <td>0</td>\n",
       "      <td>0</td>\n",
       "      <td>7.925</td>\n",
       "      <td>1</td>\n",
       "      <td>1</td>\n",
       "      <td>0</td>\n",
       "      <td>1</td>\n",
       "      <td>2</td>\n",
       "      <td>1</td>\n",
       "      <td>1</td>\n",
       "    </tr>\n",
       "    <tr>\n",
       "      <th>880</th>\n",
       "      <td>2</td>\n",
       "      <td>25</td>\n",
       "      <td>0</td>\n",
       "      <td>1</td>\n",
       "      <td>26.000</td>\n",
       "      <td>2</td>\n",
       "      <td>0</td>\n",
       "      <td>0</td>\n",
       "      <td>0</td>\n",
       "      <td>2</td>\n",
       "      <td>1</td>\n",
       "      <td>3</td>\n",
       "    </tr>\n",
       "  </tbody>\n",
       "</table>\n",
       "</div>"
      ],
      "text/plain": [
       "     Pclass  Age  SibSp  Parch    Fare  FamilySize  IsAlone  CabinOwn  \\\n",
       "555       1   62      0      0  26.550           1        1         0   \n",
       "823       3   27      0      1  12.475           2        0         1   \n",
       "683       3   14      5      2  46.900           8        0         0   \n",
       "840       3   20      0      0   7.925           1        1         0   \n",
       "880       2   25      0      1  26.000           2        0         0   \n",
       "\n",
       "     Sex_Code  Embarked_Code  AgeBin_Code  FareBin_Code  \n",
       "555         1              2            4             4  \n",
       "823         0              2            2             2  \n",
       "683         1              2            1             4  \n",
       "840         1              2            1             1  \n",
       "880         0              2            1             3  "
      ]
     },
     "execution_count": 125,
     "metadata": {},
     "output_type": "execute_result"
    }
   ],
   "source": [
    "# Trainingsdatensatz ausgeben\n",
    "train_x.head(5)"
   ]
  },
  {
   "cell_type": "code",
   "execution_count": 126,
   "metadata": {},
   "outputs": [
    {
     "data": {
      "text/plain": [
       "555    0.0\n",
       "823    1.0\n",
       "683    0.0\n",
       "840    0.0\n",
       "880    1.0\n",
       "Name: Survived, dtype: float64"
      ]
     },
     "execution_count": 126,
     "metadata": {},
     "output_type": "execute_result"
    }
   ],
   "source": [
    "# Überlebenswerte des Trainingsdatensatz ausgeben\n",
    "train_y.head(5)"
   ]
  },
  {
   "cell_type": "markdown",
   "metadata": {},
   "source": [
    "### 4.2 Training eines einfachen Logistischen Regressions Models"
   ]
  },
  {
   "cell_type": "code",
   "execution_count": 127,
   "metadata": {},
   "outputs": [],
   "source": [
    "# Parameter für das Modell festlegen\n",
    "params_log = [\"Fare\"]\n",
    "\n",
    "# Model initialisieren\n",
    "log_reg = linear_model.LogisticRegression()\n",
    "\n",
    "# Model trainieren\n",
    "log_reg = log_reg.fit(train_x[params_log], train_y)"
   ]
  },
  {
   "cell_type": "markdown",
   "metadata": {},
   "source": [
    "### 4.3 Bewertung des Logistischen Regressions Models anhand der Trainingsdaten"
   ]
  },
  {
   "cell_type": "code",
   "execution_count": 128,
   "metadata": {},
   "outputs": [],
   "source": [
    "# Model für Prognose verwenden und Prognose ausgeben\n",
    "log_reg_prediction = log_reg.predict(train_x[params_log])"
   ]
  },
  {
   "cell_type": "code",
   "execution_count": 129,
   "metadata": {},
   "outputs": [
    {
     "name": "stdout",
     "output_type": "stream",
     "text": [
      "Prognostizierte Werte\n",
      "[0. 0. 0. 0. 0. 1. 1. 0. 0. 0. 0. 0. 0. 0. 0. 0. 0. 0. 0. 0.]\n"
     ]
    }
   ],
   "source": [
    "# Ausgabe der prognostizierten Werte (erste 20 Werte)\n",
    "print(\"Prognostizierte Werte\")\n",
    "print(log_reg_prediction[:20])"
   ]
  },
  {
   "cell_type": "code",
   "execution_count": 130,
   "metadata": {},
   "outputs": [
    {
     "name": "stdout",
     "output_type": "stream",
     "text": [
      "Wahre Werte\n",
      "[0. 1. 0. 0. 1. 0. 0. 0. 1. 0. 0. 1. 0. 0. 1. 0. 1. 0. 0. 1.]\n"
     ]
    }
   ],
   "source": [
    "# Wahre Werte ausgeben (erste 20 Werte)\n",
    "train_y_np = train_y.to_numpy() # Pandas Serie in Numpy Array umwandeln\n",
    "print(\"Wahre Werte\")\n",
    "print(train_y_np[:20])"
   ]
  },
  {
   "cell_type": "code",
   "execution_count": 131,
   "metadata": {},
   "outputs": [
    {
     "name": "stdout",
     "output_type": "stream",
     "text": [
      "Vergleich Prognose vs. Wahre Werte\n",
      "[ 0. -1.  0.  0. -1.  1.  1.  0. -1.  0.  0. -1.  0.  0. -1.  0. -1.  0.\n",
      "  0. -1.]\n"
     ]
    }
   ],
   "source": [
    "# Vergleich zwischen Prognose und wahren Werten ausgeben\n",
    "difference_pred_true = log_reg_prediction - train_y_np\n",
    "print(\"Vergleich Prognose vs. Wahre Werte\")\n",
    "print(difference_pred_true[:20])"
   ]
  },
  {
   "cell_type": "code",
   "execution_count": 132,
   "metadata": {},
   "outputs": [
    {
     "name": "stdout",
     "output_type": "stream",
     "text": [
      "Genauigkeit des Models: 0.674 %\n"
     ]
    }
   ],
   "source": [
    "# Berechnen der Accuracy\n",
    "\n",
    "# Nullen im Vergleichs Array zählen\n",
    "count_zeros  = np.count_nonzero(log_reg_prediction - train_y.to_numpy() == 0. , axis=0) \n",
    "\n",
    "# Anzahl der Werte im Vergleichs Array zählen\n",
    "count_values = len(log_reg_prediction - train_y.to_numpy())\n",
    "\n",
    "# Anteil der korrekt vorhergesagten Werte zählen\n",
    "score        = count_zeros / count_values\n",
    "\n",
    "# Ergebnis ausgeben\n",
    "print(\"Genauigkeit des Models: %1.3f %%\"%(score))"
   ]
  },
  {
   "cell_type": "code",
   "execution_count": 133,
   "metadata": {},
   "outputs": [
    {
     "name": "stdout",
     "output_type": "stream",
     "text": [
      "Genauigkeit des Models: 0.674 %\n"
     ]
    }
   ],
   "source": [
    "# Berechnung der Accuracy mit einer Zeile mittels score-Methode\n",
    "score = log_reg.score(train_x[params_log], train_y)\n",
    "\n",
    "# Ergebnis ausgeben\n",
    "print(\"Genauigkeit des Models: %1.3f %%\"%(score))"
   ]
  },
  {
   "cell_type": "markdown",
   "metadata": {},
   "source": [
    "### 4.4 Bewertung des Logistischen Regressions Models anhand der Validierungsdaten"
   ]
  },
  {
   "cell_type": "code",
   "execution_count": 134,
   "metadata": {},
   "outputs": [
    {
     "name": "stdout",
     "output_type": "stream",
     "text": [
      "Genauigkeit des Models: 0.632 %\n"
     ]
    }
   ],
   "source": [
    "# Berechnung der Accuracy mit einer Zeile mittels score-Methode\n",
    "score = log_reg.score(val_x[params_log], val_y)\n",
    "\n",
    "# Ergebnis ausgeben\n",
    "print(\"Genauigkeit des Models: %1.3f %%\"%(score))"
   ]
  },
  {
   "cell_type": "markdown",
   "metadata": {},
   "source": [
    "### 4.5 Training eines Logistischen Regressions Models mit mehreren Inputs"
   ]
  },
  {
   "cell_type": "code",
   "execution_count": 135,
   "metadata": {},
   "outputs": [],
   "source": [
    "# Parameter festlegen\n",
    "params_log = [\"CabinOwn\", \"Sex_Code\", \"Embarked_Code\", \"AgeBin_Code\", \"FareBin_Code\"]"
   ]
  },
  {
   "cell_type": "code",
   "execution_count": 136,
   "metadata": {},
   "outputs": [],
   "source": [
    "# Model initialisieren und trainieren\n",
    "log_reg = linear_model.LogisticRegression()\n",
    "log_reg = log_reg.fit(train_x[params_log], train_y)"
   ]
  },
  {
   "cell_type": "code",
   "execution_count": 137,
   "metadata": {},
   "outputs": [
    {
     "name": "stdout",
     "output_type": "stream",
     "text": [
      "Genauigkeit des Models: 0.787 %\n"
     ]
    }
   ],
   "source": [
    "# Berechnung der Accuracy für die Trainingsdaten\n",
    "score = log_reg.score(train_x[params_log], train_y)\n",
    "print(\"Genauigkeit des Models: %1.3f %%\"%(score))"
   ]
  },
  {
   "cell_type": "markdown",
   "metadata": {},
   "source": [
    "### 4.6 Bewertung eines Logistischen Regressions Models mit mehreren Inputs"
   ]
  },
  {
   "cell_type": "code",
   "execution_count": 138,
   "metadata": {},
   "outputs": [
    {
     "name": "stdout",
     "output_type": "stream",
     "text": [
      "Genauigkeit des Models: 0.798 %\n"
     ]
    }
   ],
   "source": [
    "# Berechnung der Accuracy\n",
    "score = log_reg.score(val_x[params_log], val_y)\n",
    "print(\"Genauigkeit des Models: %1.3f %%\"%(score))"
   ]
  },
  {
   "cell_type": "markdown",
   "metadata": {},
   "source": [
    "### 4.7 Training eines k-Next-Neighbors Models"
   ]
  },
  {
   "cell_type": "code",
   "execution_count": 139,
   "metadata": {},
   "outputs": [],
   "source": [
    "# Parameterdefinition\n",
    "params_knn = [\"CabinOwn\", \"Sex_Code\", \"Embarked_Code\", \"AgeBin_Code\", \"FareBin_Code\"]"
   ]
  },
  {
   "cell_type": "code",
   "execution_count": 140,
   "metadata": {},
   "outputs": [],
   "source": [
    "# Model initialisieren, trainieren und Vorhersage erstellen\n",
    "knn = neighbors.KNeighborsClassifier(n_neighbors = 7)\n",
    "knn = knn.fit(train_x[params_knn], train_y)"
   ]
  },
  {
   "cell_type": "code",
   "execution_count": 141,
   "metadata": {},
   "outputs": [
    {
     "name": "stdout",
     "output_type": "stream",
     "text": [
      "Genauigkeit des Models: 0.799 %\n"
     ]
    }
   ],
   "source": [
    "# Berechnung der Accuracy für die Trainingsdaten\n",
    "score = knn.score(train_x[params_knn], train_y)\n",
    "print(\"Genauigkeit des Models: %1.3f %%\"%(score))"
   ]
  },
  {
   "cell_type": "markdown",
   "metadata": {},
   "source": [
    "### 4.8 Bewertung des k-Next-Neighbors Models"
   ]
  },
  {
   "cell_type": "code",
   "execution_count": 142,
   "metadata": {},
   "outputs": [
    {
     "name": "stdout",
     "output_type": "stream",
     "text": [
      "Genauigkeit des Models: 0.735 %\n"
     ]
    }
   ],
   "source": [
    "# Model score\n",
    "score = knn.score(val_x[params_knn], val_y)\n",
    "print(\"Genauigkeit des Models: %1.3f %%\"%(score))"
   ]
  },
  {
   "cell_type": "markdown",
   "metadata": {},
   "source": [
    "### 4.9 Hyperparameter-Tuning des k-Next-Neighbors Models"
   ]
  },
  {
   "cell_type": "code",
   "execution_count": 143,
   "metadata": {},
   "outputs": [],
   "source": [
    "neighbors_list = [1, 3, 7, 11, 17]"
   ]
  },
  {
   "cell_type": "code",
   "execution_count": 144,
   "metadata": {},
   "outputs": [
    {
     "name": "stdout",
     "output_type": "stream",
     "text": [
      "Neighbors: 1 Trainingsscore: 0.817 % Validationscore: 0.735 %\n",
      "Neighbors: 3 Trainingsscore: 0.811 % Validationscore: 0.731 %\n",
      "Neighbors: 7 Trainingsscore: 0.799 % Validationscore: 0.735 %\n",
      "Neighbors: 11 Trainingsscore: 0.804 % Validationscore: 0.762 %\n",
      "Neighbors: 17 Trainingsscore: 0.798 % Validationscore: 0.753 %\n"
     ]
    }
   ],
   "source": [
    "for n in neighbors_list:\n",
    "    knn = neighbors.KNeighborsClassifier(n_neighbors = n)\n",
    "    knn = knn.fit(train_x[params_knn], train_y)\n",
    "    score_train = knn.score(train_x[params_knn], train_y)\n",
    "    score_val = knn.score(val_x[params_knn], val_y)\n",
    "    print(\"Neighbors: %1.0f Trainingsscore: %1.3f %% Validationscore: %1.3f %%\"%(n, score_train, score_val))"
   ]
  },
  {
   "cell_type": "markdown",
   "metadata": {},
   "source": [
    "### 4.10 Training eines Decision Tree"
   ]
  },
  {
   "cell_type": "code",
   "execution_count": 145,
   "metadata": {},
   "outputs": [],
   "source": [
    "# Parameterdefinition\n",
    "params_dt = [\"CabinOwn\", \"Sex_Code\", \"Embarked_Code\", \"AgeBin_Code\", \"FareBin_Code\"]"
   ]
  },
  {
   "cell_type": "code",
   "execution_count": 146,
   "metadata": {},
   "outputs": [],
   "source": [
    "# Model initialisieren und trainieren\n",
    "dtc = tree.DecisionTreeClassifier(max_depth = 5)\n",
    "dtc = dtc.fit(train_x[params_dt], train_y)"
   ]
  },
  {
   "cell_type": "code",
   "execution_count": 147,
   "metadata": {},
   "outputs": [
    {
     "name": "stdout",
     "output_type": "stream",
     "text": [
      "Genauigkeit des Models: 0.816 %\n"
     ]
    }
   ],
   "source": [
    "# Berechnung der Accuracy für die Trainingsdaten\n",
    "score = dtc.score(train_x[params_dt], train_y)\n",
    "print(\"Genauigkeit des Models: %1.3f %%\"%(score))"
   ]
  },
  {
   "cell_type": "markdown",
   "metadata": {},
   "source": [
    "### 4.11 Bewertung des Decision Tree"
   ]
  },
  {
   "cell_type": "code",
   "execution_count": 148,
   "metadata": {
    "scrolled": true
   },
   "outputs": [
    {
     "name": "stdout",
     "output_type": "stream",
     "text": [
      "Genauigkeit des Models: 0.807 %\n"
     ]
    }
   ],
   "source": [
    "# Model score\n",
    "score = dtc.score(val_x[params_dt], val_y)\n",
    "print(\"Genauigkeit des Models: %1.3f %%\"%(score))"
   ]
  },
  {
   "cell_type": "markdown",
   "metadata": {},
   "source": [
    "### 4.12 Training eines Random Forest Classifiers"
   ]
  },
  {
   "cell_type": "code",
   "execution_count": 149,
   "metadata": {},
   "outputs": [],
   "source": [
    "# Parameterdefinition\n",
    "params_rf = [\"CabinOwn\", \"Sex_Code\", \"Embarked_Code\", \"AgeBin_Code\", \"FareBin_Code\"]"
   ]
  },
  {
   "cell_type": "code",
   "execution_count": 150,
   "metadata": {},
   "outputs": [],
   "source": [
    "# Model initialisieren und trainieren\n",
    "rfc = ensemble.RandomForestClassifier(n_estimators = 10, \n",
    "                                      max_depth = 5)\n",
    "rfc = rfc.fit(train_x[params_rf], train_y)"
   ]
  },
  {
   "cell_type": "code",
   "execution_count": 151,
   "metadata": {},
   "outputs": [
    {
     "name": "stdout",
     "output_type": "stream",
     "text": [
      "Genauigkeit des Models: 0.819 %\n"
     ]
    }
   ],
   "source": [
    "# Berechnung der Accuracy für die Trainingsdaten\n",
    "score = rfc.score(train_x[params_rf], train_y)\n",
    "print(\"Genauigkeit des Models: %1.3f %%\"%(score))"
   ]
  },
  {
   "cell_type": "markdown",
   "metadata": {},
   "source": [
    "### 4.13 Bewertung des Random Forest Classifiers"
   ]
  },
  {
   "cell_type": "code",
   "execution_count": 152,
   "metadata": {},
   "outputs": [
    {
     "name": "stdout",
     "output_type": "stream",
     "text": [
      "Genauigkeit des Models: 0.816 %\n"
     ]
    }
   ],
   "source": [
    "# Model score\n",
    "score = rfc.score(val_x[params_rf], val_y)\n",
    "print(\"Genauigkeit des Models: %1.3f %%\"%(score))"
   ]
  },
  {
   "cell_type": "markdown",
   "metadata": {},
   "source": [
    "### 4.11 Modelvergleich"
   ]
  },
  {
   "cell_type": "code",
   "execution_count": 153,
   "metadata": {},
   "outputs": [
    {
     "name": "stdout",
     "output_type": "stream",
     "text": [
      "Genauigkeit des Logistischen Regression Models: 0.798 %\n",
      "Genauigkeit des KNN Models: 0.753 %\n",
      "Genauigkeit des Decision Tree: 0.807 %\n",
      "Genauigkeit des Random Forest Models: 0.816 %\n"
     ]
    }
   ],
   "source": [
    "score = log_reg.score(val_x[params_log], val_y)\n",
    "print(\"Genauigkeit des Logistischen Regression Models: %1.3f %%\"%(score))\n",
    "\n",
    "score = knn.score(val_x[params_knn], val_y)\n",
    "print(\"Genauigkeit des KNN Models: %1.3f %%\"%(score))\n",
    "\n",
    "score = dtc.score(val_x[params_dt], val_y)\n",
    "print(\"Genauigkeit des Decision Tree: %1.3f %%\"%(score))\n",
    "\n",
    "score = rfc.score(val_x[params_rf], val_y)\n",
    "print(\"Genauigkeit des Random Forest Models: %1.3f %%\"%(score))"
   ]
  },
  {
   "cell_type": "markdown",
   "metadata": {},
   "source": [
    "### 4.12 Ensembling"
   ]
  },
  {
   "cell_type": "code",
   "execution_count": 154,
   "metadata": {},
   "outputs": [],
   "source": [
    "# Kombination der Modelle zu einem Gesamtmodel mittels Ensemblings "
   ]
  },
  {
   "cell_type": "code",
   "execution_count": 155,
   "metadata": {},
   "outputs": [],
   "source": [
    "# Liste mit den Modellen anlegen\n",
    "models = [(\"lr\", log_reg), \n",
    "          (\"knn\", knn), \n",
    "          (\"rf\", rfc),\n",
    "          (\"dt\", dtc)]"
   ]
  },
  {
   "cell_type": "code",
   "execution_count": 156,
   "metadata": {},
   "outputs": [],
   "source": [
    "# Parameterdefinition\n",
    "params_hv = [\"CabinOwn\", \"Sex_Code\", \"Embarked_Code\", \"AgeBin_Code\", \"FareBin_Code\"]"
   ]
  },
  {
   "cell_type": "code",
   "execution_count": 157,
   "metadata": {},
   "outputs": [],
   "source": [
    "# Model initialisieren und trainieren\n",
    "hard_vote = ensemble.VotingClassifier(estimators = models, voting = \"hard\")\n",
    "hard_vote = hard_vote.fit(train_x[params_hv], train_y)"
   ]
  },
  {
   "cell_type": "code",
   "execution_count": 158,
   "metadata": {
    "scrolled": true
   },
   "outputs": [
    {
     "name": "stdout",
     "output_type": "stream",
     "text": [
      "Genauigkeit des Models: 0.811 %\n"
     ]
    }
   ],
   "source": [
    "# Berechnung der Accuracy für die Trainingsdaten\n",
    "score = hard_vote.score(train_x[params_hv], train_y)\n",
    "print(\"Genauigkeit des Models: %1.3f %%\"%(score))"
   ]
  },
  {
   "cell_type": "markdown",
   "metadata": {},
   "source": [
    "### 4.13 Bewertung des Ensemblings"
   ]
  },
  {
   "cell_type": "code",
   "execution_count": 159,
   "metadata": {},
   "outputs": [
    {
     "name": "stdout",
     "output_type": "stream",
     "text": [
      "Genauigkeit des Models: 0.789 %\n"
     ]
    }
   ],
   "source": [
    "# Model score\n",
    "score = hard_vote.score(val_x[params_hv], val_y)\n",
    "print(\"Genauigkeit des Models: %1.3f %%\"%(score))"
   ]
  },
  {
   "cell_type": "markdown",
   "metadata": {},
   "source": [
    "### 4.14 Anwendung auf ungesehene Daten"
   ]
  },
  {
   "cell_type": "code",
   "execution_count": 160,
   "metadata": {},
   "outputs": [],
   "source": [
    "# Laden der wahren Werte\n",
    "true_values = pd.read_csv(\"data/solution.csv\")"
   ]
  },
  {
   "cell_type": "code",
   "execution_count": 161,
   "metadata": {},
   "outputs": [
    {
     "name": "stdout",
     "output_type": "stream",
     "text": [
      "Genauigkeit des Models: 0.770 %\n"
     ]
    }
   ],
   "source": [
    "# Anwendung des Hard Vote Ensembles auf die ungesehenen Daten\n",
    "score_ensemble = hard_vote.score(df_test[params_hv], true_values[\"Survived\"])\n",
    "\n",
    "print(\"Genauigkeit des Models: %1.3f %%\"%(score_ensemble))"
   ]
  },
  {
   "cell_type": "markdown",
   "metadata": {},
   "source": [
    "## 5. Evaluation"
   ]
  },
  {
   "cell_type": "markdown",
   "metadata": {},
   "source": [
    "### 5.1 Prognose mit einem Zufallsexperiment (Münzwurf)"
   ]
  },
  {
   "cell_type": "code",
   "execution_count": 173,
   "metadata": {},
   "outputs": [],
   "source": [
    "# Zufälliges Vorhersage erstellen\n",
    "random_prediction = np.random.randint(0,2,size = len(true_values)).astype(float)"
   ]
  },
  {
   "cell_type": "code",
   "execution_count": 174,
   "metadata": {
    "scrolled": true
   },
   "outputs": [
    {
     "name": "stdout",
     "output_type": "stream",
     "text": [
      "[1. 1. 0. 1. 1. 0. 0. 1. 1. 0. 0. 1. 1. 1. 1. 0. 0. 1. 0. 0. 1. 0. 0. 0.\n",
      " 0. 1. 1. 1. 1. 0. 1. 1. 1. 1. 0. 0. 1. 1. 1. 1. 0. 1. 0. 1. 1. 0. 1. 0.\n",
      " 1. 0. 0. 0. 1. 1. 0. 0. 1. 1. 0. 1. 0. 0. 0. 0. 0. 1. 1. 1. 1. 1. 1. 1.\n",
      " 0. 0. 0. 1. 0. 0. 1. 1. 1. 1. 1. 0. 1. 0. 0. 0. 1. 0. 1. 1. 1. 0. 1. 0.\n",
      " 0. 0. 1. 1. 1. 1. 0. 0. 0. 0. 0. 1. 0. 1. 1. 1. 1. 0. 0. 1. 1. 0. 1. 1.\n",
      " 1. 0. 1. 0. 0. 0. 0. 0. 0. 1. 1. 0. 0. 0. 1. 1. 0. 1. 1. 0. 1. 1. 1. 0.\n",
      " 1. 1. 0. 1. 0. 1. 0. 0. 1. 0. 1. 0. 1. 1. 0. 0. 1. 0. 1. 1. 0. 1. 0. 0.\n",
      " 1. 1. 0. 0. 0. 1. 1. 1. 0. 0. 1. 0. 1. 0. 0. 0. 0. 1. 0. 1. 0. 1. 1. 0.\n",
      " 1. 1. 1. 0. 1. 1. 0. 0. 0. 0. 1. 0. 1. 1. 1. 0. 0. 1. 0. 1. 0. 0. 0. 1.\n",
      " 1. 0. 0. 0. 0. 0. 1. 0. 1. 0. 0. 0. 1. 0. 0. 1. 0. 0. 0. 1. 1. 1. 0. 1.\n",
      " 0. 1. 1. 0. 0. 0. 0. 0. 1. 0. 1. 0. 0. 0. 0. 1. 0. 1. 1. 0. 1. 1. 0. 0.\n",
      " 0. 1. 1. 1. 0. 1. 0. 0. 0. 1. 0. 1. 0. 0. 1. 0. 1. 1. 0. 0. 1. 0. 0. 0.\n",
      " 0. 1. 0. 0. 0. 1. 0. 0. 0. 1. 1. 1. 1. 0. 0. 1. 0. 0. 1. 1. 0. 0. 1. 0.\n",
      " 1. 0. 1. 0. 0. 0. 1. 1. 0. 1. 0. 1. 1. 1. 1. 0. 1. 0. 0. 1. 1. 0. 1. 0.\n",
      " 1. 1. 1. 0. 1. 1. 1. 1. 0. 0. 0. 1. 0. 0. 0. 0. 0. 1. 0. 0. 1. 0. 0. 1.\n",
      " 0. 1. 0. 0. 1. 0. 1. 1. 0. 1. 1. 0. 0. 0. 1. 0. 0. 0. 0. 1. 0. 1. 0. 1.\n",
      " 0. 1. 1. 1. 1. 1. 1. 1. 1. 0. 0. 0. 1. 1. 0. 1. 0. 0. 1. 1. 1. 1. 0. 1.\n",
      " 1. 0. 0. 0. 0. 1. 0. 0. 0. 0.]\n"
     ]
    }
   ],
   "source": [
    "print(random_prediction)"
   ]
  },
  {
   "cell_type": "code",
   "execution_count": 175,
   "metadata": {},
   "outputs": [
    {
     "name": "stdout",
     "output_type": "stream",
     "text": [
      "Genauigkeit des Models: 0.505 %\n"
     ]
    }
   ],
   "source": [
    "# Wahre Werte ausgeben\n",
    "true_values_np = true_values[\"Survived\"].to_numpy() # Pandas Serie in Numpy Array umwandeln\n",
    "\n",
    "# Vergleich zwischen Zufall und wahren Werten ausgeben\n",
    "difference_pred_true = random_prediction - true_values_np\n",
    "\n",
    "# Berechnen der Vorhersagegenauigkeit\n",
    "# Nullen im Vergleichs Array zählen\n",
    "count_zeros  = np.count_nonzero(random_prediction - true_values_np == 0. , axis=0)\n",
    "# Anzahl der Werte im Vergleichs Array zählen\n",
    "count_values = len(random_prediction - true_values_np)\n",
    "# Anteil der korrekt vorhergesagten Werte zählen\n",
    "score_random = count_zeros / count_values                                             \n",
    "print(\"Genauigkeit des Models: %1.3f %%\"%(score_random))"
   ]
  },
  {
   "cell_type": "markdown",
   "metadata": {},
   "source": [
    "### 5.2 Prognose mit sehr einfachem Modell (alle Frauen überleben)"
   ]
  },
  {
   "cell_type": "code",
   "execution_count": 176,
   "metadata": {},
   "outputs": [
    {
     "data": {
      "text/plain": [
       "array([0, 1, 0, 0, 1, 0, 1, 0, 1, 0, 0, 0, 1, 0, 1, 1, 0, 0, 1, 1, 0, 0,\n",
       "       1, 0, 1, 0, 1, 0, 0, 0, 0, 0, 1, 1, 0, 0, 1, 1, 0, 0, 0, 0, 0, 1,\n",
       "       1, 0, 0, 0, 1, 1, 0, 0, 1, 1, 0, 0, 0, 0, 0, 1, 0, 0, 0, 1, 0, 1,\n",
       "       1, 0, 0, 1, 1, 0, 1, 0, 1, 0, 0, 1, 0, 1, 0, 0, 0, 0, 0, 0, 1, 1,\n",
       "       1, 0, 1, 0, 1, 0, 0, 0, 1, 0, 1, 0, 1, 0, 0, 0, 1, 0, 0, 0, 0, 0,\n",
       "       0, 1, 1, 1, 1, 0, 0, 1, 0, 1, 1, 0, 1, 0, 0, 1, 0, 1, 0, 0, 0, 0,\n",
       "       1, 0, 0, 0, 0, 0, 1, 0, 1, 1, 0, 0, 0, 0, 0, 0, 0, 0, 1, 0, 0, 1,\n",
       "       0, 0, 1, 1, 0, 1, 1, 0, 1, 0, 0, 1, 0, 0, 1, 1, 0, 0, 0, 0, 0, 1,\n",
       "       1, 0, 1, 1, 0, 0, 1, 0, 1, 0, 1, 0, 1, 0, 0, 0, 0, 0, 0, 0, 0, 1,\n",
       "       0, 1, 1, 0, 0, 1, 0, 0, 1, 0, 1, 0, 0, 0, 0, 1, 1, 0, 1, 0, 1, 0,\n",
       "       1, 0, 1, 0, 1, 1, 0, 1, 0, 0, 0, 1, 0, 0, 0, 0, 0, 0, 1, 1, 1, 1,\n",
       "       0, 0, 0, 0, 1, 0, 1, 1, 1, 0, 0, 0, 0, 0, 0, 0, 1, 0, 0, 0, 1, 1,\n",
       "       0, 0, 0, 0, 1, 0, 0, 0, 1, 1, 0, 1, 0, 0, 0, 0, 1, 0, 1, 1, 1, 0,\n",
       "       0, 0, 0, 0, 0, 1, 0, 0, 0, 0, 1, 0, 0, 0, 0, 0, 0, 0, 1, 1, 0, 0,\n",
       "       0, 1, 0, 0, 0, 1, 1, 1, 0, 0, 0, 0, 0, 0, 0, 0, 1, 0, 1, 0, 0, 0,\n",
       "       1, 0, 0, 1, 0, 0, 0, 0, 0, 0, 0, 0, 0, 1, 0, 1, 0, 1, 0, 1, 1, 0,\n",
       "       0, 0, 1, 0, 1, 0, 0, 1, 0, 1, 1, 0, 1, 1, 0, 1, 1, 0, 0, 1, 0, 0,\n",
       "       1, 1, 1, 0, 0, 0, 0, 0, 1, 1, 0, 1, 0, 0, 0, 0, 0, 1, 0, 0, 0, 1,\n",
       "       0, 1, 0, 0, 1, 0, 1, 0, 0, 0, 0, 0, 1, 1, 1, 1, 1, 0, 1, 0, 0, 0])"
      ]
     },
     "execution_count": 176,
     "metadata": {},
     "output_type": "execute_result"
    }
   ],
   "source": [
    "woman_survive = (df_test[\"Sex_Code\"]==0).astype(int)\n",
    "woman_survive = woman_survive.to_numpy()\n",
    "woman_survive"
   ]
  },
  {
   "cell_type": "code",
   "execution_count": 177,
   "metadata": {},
   "outputs": [
    {
     "name": "stdout",
     "output_type": "stream",
     "text": [
      "Genauigkeit des Models: 0.768 %\n"
     ]
    }
   ],
   "source": [
    "# Wahre Werte ausgeben\n",
    "true_values_np = true_values[\"Survived\"].to_numpy() # Pandas Serie in Numpy Array umwandeln\n",
    "\n",
    "# Vergleich zwischen Zufall und wahren Werten ausgeben\n",
    "difference_pred_true = woman_survive - true_values_np\n",
    "\n",
    "# Berechnen der Vorhersagegenauigkeit\n",
    "# Nullen im Vergleichs Array zählen\n",
    "count_zeros  = np.count_nonzero(woman_survive - true_values_np == 0. , axis=0)\n",
    "# Anzahl der Werte im Vergleichs Array zählen\n",
    "count_values = len(woman_survive - true_values_np)\n",
    "# Anteil der korrekt vorhergesagten Werte zählen\n",
    "score_woman  = count_zeros / count_values                                             \n",
    "print(\"Genauigkeit des Models: %1.3f %%\"%(score_woman))"
   ]
  },
  {
   "cell_type": "markdown",
   "metadata": {},
   "source": [
    "### 5.3 Vergleich der Modelle"
   ]
  },
  {
   "cell_type": "code",
   "execution_count": 182,
   "metadata": {},
   "outputs": [
    {
     "data": {
      "text/plain": [
       "<seaborn.axisgrid.FacetGrid at 0x7fbc9bec8760>"
      ]
     },
     "execution_count": 182,
     "metadata": {},
     "output_type": "execute_result"
    },
    {
     "data": {
      "image/png": "[encoded data removed]",
      "text/plain": [
       "<Figure size 360x360 with 1 Axes>"
      ]
     },
     "metadata": {},
     "output_type": "display_data"
    }
   ],
   "source": [
    "# DataFrame mit den Trainingsergebnissen\n",
    "scores = pd.DataFrame(data = ([\"Random\", score_random],\n",
    "                              [\"Woman\", score_woman],\n",
    "                              [\"Ensemble\", score_ensemble], \n",
    "                              [\"My_Best\", 0.79425],\n",
    "                              [\"Top1_Kaggle\", 0.85645]),\n",
    "                      columns = [\"Algo\", \"Score\"])\n",
    "\n",
    "# Plotten der Ergebnisse\n",
    "sns.catplot(x = \"Algo\", \n",
    "            y = \"Score\", \n",
    "            kind = \"bar\", \n",
    "            data = scores,\n",
    "            ci = None)"
   ]
  },
  {
   "cell_type": "markdown",
   "metadata": {
    "slideshow": {
     "slide_type": "subslide"
    }
   },
   "source": [
    "[1] Crisp DM Vorgehensmodel https://www.bigdata-insider.de/was-ist-crisp-dm-a-815478/"
   ]
  }
 ],
 "metadata": {
  "kernelspec": {
   "display_name": "Python 3",
   "language": "python",
   "name": "python3"
  },
  "language_info": {
   "codemirror_mode": {
    "name": "ipython",
    "version": 3
   },
   "file_extension": ".py",
   "mimetype": "text/x-python",
   "name": "python",
   "nbconvert_exporter": "python",
   "pygments_lexer": "ipython3",
   "version": "3.8.5"
  }
 },
 "nbformat": 4,
 "nbformat_minor": 4
}
